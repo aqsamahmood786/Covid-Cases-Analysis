{
 "cells": [
  {
   "cell_type": "markdown",
   "metadata": {},
   "source": [
    "# Background\n",
    "Covid has affected every country in the globe since November 2019 affecting both economically and socially. The aim of our study is to find the factors that contributed to covid spread. My main focus is analysing the correlation between population density and covid spread in UK."
   ]
  },
  {
   "cell_type": "markdown",
   "metadata": {},
   "source": [
    "# Research Questions  \n",
    "1. How does covid spread vary over time.\n",
    "2. Which regions and areas had more covid cases. Are there any covid hotspots?\n",
    "3. Do Covid hotspots vary over time?\n",
    "4. Is there any correlation between covid cases and deaths across various regions?\n",
    "5. Is poulation density a factor in spread of covid?"
   ]
  },
  {
   "cell_type": "markdown",
   "metadata": {},
   "source": [
    "# import libraries"
   ]
  },
  {
   "cell_type": "code",
   "execution_count": 1,
   "metadata": {},
   "outputs": [],
   "source": [
    "import warnings\n",
    "warnings.filterwarnings('ignore')\n",
    "import numpy as np\n",
    "import pandas as pd\n",
    "import matplotlib.pyplot as plt\n",
    "pd.options.display.max_rows\n",
    "pd.set_option('display.max_colwidth', -1)\n",
    "pd.set_option('display.max_rows', 500)\n",
    "pd.set_option('display.max_columns', 500)\n",
    "pd.set_option('display.width', 1000)\n",
    "import scipy.cluster.hierarchy as sch\n",
    "from scipy.cluster.hierarchy import linkage, dendrogram, fcluster"
   ]
  },
  {
   "cell_type": "code",
   "execution_count": 2,
   "metadata": {},
   "outputs": [
    {
     "data": {
      "text/html": [
       "<div>\n",
       "<style scoped>\n",
       "    .dataframe tbody tr th:only-of-type {\n",
       "        vertical-align: middle;\n",
       "    }\n",
       "\n",
       "    .dataframe tbody tr th {\n",
       "        vertical-align: top;\n",
       "    }\n",
       "\n",
       "    .dataframe thead th {\n",
       "        text-align: right;\n",
       "    }\n",
       "</style>\n",
       "<table border=\"1\" class=\"dataframe\">\n",
       "  <thead>\n",
       "    <tr style=\"text-align: right;\">\n",
       "      <th></th>\n",
       "      <th>areaCode</th>\n",
       "      <th>areaName</th>\n",
       "      <th>areaType</th>\n",
       "      <th>date</th>\n",
       "      <th>newCasesByPublishDate</th>\n",
       "    </tr>\n",
       "  </thead>\n",
       "  <tbody>\n",
       "    <tr>\n",
       "      <th>0</th>\n",
       "      <td>E06000003</td>\n",
       "      <td>Redcar and Cleveland</td>\n",
       "      <td>utla</td>\n",
       "      <td>2021-06-30</td>\n",
       "      <td>93</td>\n",
       "    </tr>\n",
       "    <tr>\n",
       "      <th>1</th>\n",
       "      <td>E06000014</td>\n",
       "      <td>York</td>\n",
       "      <td>utla</td>\n",
       "      <td>2021-06-30</td>\n",
       "      <td>146</td>\n",
       "    </tr>\n",
       "    <tr>\n",
       "      <th>2</th>\n",
       "      <td>E06000050</td>\n",
       "      <td>Cheshire West and Chester</td>\n",
       "      <td>utla</td>\n",
       "      <td>2021-06-30</td>\n",
       "      <td>148</td>\n",
       "    </tr>\n",
       "    <tr>\n",
       "      <th>3</th>\n",
       "      <td>E08000001</td>\n",
       "      <td>Bolton</td>\n",
       "      <td>utla</td>\n",
       "      <td>2021-06-30</td>\n",
       "      <td>127</td>\n",
       "    </tr>\n",
       "    <tr>\n",
       "      <th>4</th>\n",
       "      <td>E08000016</td>\n",
       "      <td>Barnsley</td>\n",
       "      <td>utla</td>\n",
       "      <td>2021-06-30</td>\n",
       "      <td>157</td>\n",
       "    </tr>\n",
       "  </tbody>\n",
       "</table>\n",
       "</div>"
      ],
      "text/plain": [
       "    areaCode                   areaName areaType        date  newCasesByPublishDate\n",
       "0  E06000003  Redcar and Cleveland       utla     2021-06-30  93                   \n",
       "1  E06000014  York                       utla     2021-06-30  146                  \n",
       "2  E06000050  Cheshire West and Chester  utla     2021-06-30  148                  \n",
       "3  E08000001  Bolton                     utla     2021-06-30  127                  \n",
       "4  E08000016  Barnsley                   utla     2021-06-30  157                  "
      ]
     },
     "execution_count": 2,
     "metadata": {},
     "output_type": "execute_result"
    }
   ],
   "source": [
    "case_data = pd.read_csv('cases.csv')\n",
    "case_data.head()"
   ]
  },
  {
   "cell_type": "code",
   "execution_count": 3,
   "metadata": {},
   "outputs": [
    {
     "data": {
      "text/plain": [
       "(88319, 5)"
      ]
     },
     "execution_count": 3,
     "metadata": {},
     "output_type": "execute_result"
    }
   ],
   "source": [
    "case_data.shape"
   ]
  },
  {
   "cell_type": "markdown",
   "metadata": {},
   "source": [
    "# case_data Analysis"
   ]
  },
  {
   "cell_type": "code",
   "execution_count": 4,
   "metadata": {},
   "outputs": [
    {
     "data": {
      "text/plain": [
       "areaCode                 0\n",
       "areaName                 0\n",
       "areaType                 0\n",
       "date                     0\n",
       "newCasesByPublishDate    0\n",
       "dtype: int64"
      ]
     },
     "execution_count": 4,
     "metadata": {},
     "output_type": "execute_result"
    }
   ],
   "source": [
    "# checking for missing values \n",
    "case_data.isnull().sum()\n",
    "# There is no missing value in the datasets"
   ]
  },
  {
   "cell_type": "code",
   "execution_count": 5,
   "metadata": {},
   "outputs": [
    {
     "data": {
      "text/html": [
       "<div>\n",
       "<style scoped>\n",
       "    .dataframe tbody tr th:only-of-type {\n",
       "        vertical-align: middle;\n",
       "    }\n",
       "\n",
       "    .dataframe tbody tr th {\n",
       "        vertical-align: top;\n",
       "    }\n",
       "\n",
       "    .dataframe thead th {\n",
       "        text-align: right;\n",
       "    }\n",
       "</style>\n",
       "<table border=\"1\" class=\"dataframe\">\n",
       "  <thead>\n",
       "    <tr style=\"text-align: right;\">\n",
       "      <th></th>\n",
       "      <th>areaCode</th>\n",
       "      <th>areaName</th>\n",
       "      <th>areaType</th>\n",
       "      <th>date</th>\n",
       "      <th>newCasesByPublishDate</th>\n",
       "    </tr>\n",
       "  </thead>\n",
       "  <tbody>\n",
       "  </tbody>\n",
       "</table>\n",
       "</div>"
      ],
      "text/plain": [
       "Empty DataFrame\n",
       "Columns: [areaCode, areaName, areaType, date, newCasesByPublishDate]\n",
       "Index: []"
      ]
     },
     "execution_count": 5,
     "metadata": {},
     "output_type": "execute_result"
    }
   ],
   "source": [
    "# Checking for Duplicated rows\n",
    "case_data[case_data.duplicated()]\n",
    "# There is no duplicated row in the dataset"
   ]
  },
  {
   "cell_type": "code",
   "execution_count": 6,
   "metadata": {},
   "outputs": [
    {
     "name": "stdout",
     "output_type": "stream",
     "text": [
      "<class 'pandas.core.frame.DataFrame'>\n",
      "RangeIndex: 88319 entries, 0 to 88318\n",
      "Data columns (total 5 columns):\n",
      " #   Column                 Non-Null Count  Dtype \n",
      "---  ------                 --------------  ----- \n",
      " 0   areaCode               88319 non-null  object\n",
      " 1   areaName               88319 non-null  object\n",
      " 2   areaType               88319 non-null  object\n",
      " 3   date                   88319 non-null  object\n",
      " 4   newCasesByPublishDate  88319 non-null  int64 \n",
      "dtypes: int64(1), object(4)\n",
      "memory usage: 3.4+ MB\n"
     ]
    }
   ],
   "source": [
    "# Observing the types of columns in data\n",
    "case_data.info()"
   ]
  },
  {
   "cell_type": "code",
   "execution_count": 7,
   "metadata": {},
   "outputs": [],
   "source": [
    "case_data[['areaCode', 'areaName', 'areaType']] =case_data[['areaCode', 'areaName', 'areaType']].astype('category')\n",
    "case_data['date'] = case_data['date'].astype('datetime64[D]')"
   ]
  },
  {
   "cell_type": "code",
   "execution_count": 8,
   "metadata": {},
   "outputs": [
    {
     "data": {
      "text/html": [
       "<div>\n",
       "<style scoped>\n",
       "    .dataframe tbody tr th:only-of-type {\n",
       "        vertical-align: middle;\n",
       "    }\n",
       "\n",
       "    .dataframe tbody tr th {\n",
       "        vertical-align: top;\n",
       "    }\n",
       "\n",
       "    .dataframe thead th {\n",
       "        text-align: right;\n",
       "    }\n",
       "</style>\n",
       "<table border=\"1\" class=\"dataframe\">\n",
       "  <thead>\n",
       "    <tr style=\"text-align: right;\">\n",
       "      <th></th>\n",
       "      <th>newCasesByPublishDate</th>\n",
       "    </tr>\n",
       "  </thead>\n",
       "  <tbody>\n",
       "    <tr>\n",
       "      <th>count</th>\n",
       "      <td>88319.000000</td>\n",
       "    </tr>\n",
       "    <tr>\n",
       "      <th>mean</th>\n",
       "      <td>52.627022</td>\n",
       "    </tr>\n",
       "    <tr>\n",
       "      <th>std</th>\n",
       "      <td>116.098863</td>\n",
       "    </tr>\n",
       "    <tr>\n",
       "      <th>min</th>\n",
       "      <td>0.000000</td>\n",
       "    </tr>\n",
       "    <tr>\n",
       "      <th>25%</th>\n",
       "      <td>3.000000</td>\n",
       "    </tr>\n",
       "    <tr>\n",
       "      <th>50%</th>\n",
       "      <td>14.000000</td>\n",
       "    </tr>\n",
       "    <tr>\n",
       "      <th>75%</th>\n",
       "      <td>53.000000</td>\n",
       "    </tr>\n",
       "    <tr>\n",
       "      <th>max</th>\n",
       "      <td>3174.000000</td>\n",
       "    </tr>\n",
       "  </tbody>\n",
       "</table>\n",
       "</div>"
      ],
      "text/plain": [
       "       newCasesByPublishDate\n",
       "count  88319.000000         \n",
       "mean   52.627022            \n",
       "std    116.098863           \n",
       "min    0.000000             \n",
       "25%    3.000000             \n",
       "50%    14.000000            \n",
       "75%    53.000000            \n",
       "max    3174.000000          "
      ]
     },
     "execution_count": 8,
     "metadata": {},
     "output_type": "execute_result"
    }
   ],
   "source": [
    "case_data.describe()"
   ]
  },
  {
   "cell_type": "code",
   "execution_count": 9,
   "metadata": {},
   "outputs": [
    {
     "data": {
      "text/plain": [
       "Timestamp('2020-04-17 00:00:00')"
      ]
     },
     "execution_count": 9,
     "metadata": {},
     "output_type": "execute_result"
    }
   ],
   "source": [
    "case_data['date'].min()"
   ]
  },
  {
   "cell_type": "code",
   "execution_count": 10,
   "metadata": {},
   "outputs": [
    {
     "data": {
      "text/plain": [
       "Timestamp('2021-06-30 00:00:00')"
      ]
     },
     "execution_count": 10,
     "metadata": {},
     "output_type": "execute_result"
    }
   ],
   "source": [
    "case_data['date'].max()# dataset is taken between 17 April 2020 to 30 June 2021, "
   ]
  },
  {
   "cell_type": "code",
   "execution_count": 11,
   "metadata": {},
   "outputs": [
    {
     "data": {
      "text/plain": [
       "214"
      ]
     },
     "execution_count": 11,
     "metadata": {},
     "output_type": "execute_result"
    }
   ],
   "source": [
    "# unique number of cases\n",
    "case_data.areaName.nunique()"
   ]
  },
  {
   "cell_type": "code",
   "execution_count": 12,
   "metadata": {},
   "outputs": [
    {
     "data": {
      "text/plain": [
       "York                                    440\n",
       "Kingston upon Hull, City of             440\n",
       "Kensington and Chelsea                  440\n",
       "Islington                               440\n",
       "Isle of Wight                           440\n",
       "Hounslow                                440\n",
       "Hillingdon                              440\n",
       "Hertfordshire                           440\n",
       "Herefordshire, County of                440\n",
       "Havering                                440\n",
       "Harrow                                  440\n",
       "Haringey                                440\n",
       "Hampshire                               440\n",
       "Hammersmith and Fulham                  440\n",
       "Halton                                  440\n",
       "Greenwich                               440\n",
       "Gloucestershire                         440\n",
       "Gateshead                               440\n",
       "Essex                                   440\n",
       "Kent                                    440\n",
       "Kingston upon Thames                    440\n",
       "North Lincolnshire                      440\n",
       "Kirklees                                440\n",
       "Norfolk                                 440\n",
       "Newham                                  440\n",
       "Newcastle upon Tyne                     440\n",
       "Milton Keynes                           440\n",
       "Middlesbrough                           440\n",
       "Merton                                  440\n",
       "Medway                                  440\n",
       "Manchester                              440\n",
       "Luton                                   440\n",
       "Liverpool                               440\n",
       "Lewisham                                440\n",
       "Leicestershire                          440\n",
       "Leicester                               440\n",
       "Leeds                                   440\n",
       "Lancashire                              440\n",
       "Lambeth                                 440\n",
       "Knowsley                                440\n",
       "Enfield                                 440\n",
       "East Sussex                             440\n",
       "East Riding of Yorkshire                440\n",
       "Ealing                                  440\n",
       "Bromley                                 440\n",
       "Bristol, City of                        440\n",
       "Brighton and Hove                       440\n",
       "Brent                                   440\n",
       "Bradford                                440\n",
       "Bracknell Forest                        440\n",
       "Bournemouth, Christchurch and Poole     440\n",
       "Bolton                                  440\n",
       "Blackpool                               440\n",
       "Blackburn with Darwen                   440\n",
       "Birmingham                              440\n",
       "Bexley                                  440\n",
       "Bedford                                 440\n",
       "Bath and North East Somerset            440\n",
       "Barnsley                                440\n",
       "Barnet                                  440\n",
       "Barking and Dagenham                    440\n",
       "Buckinghamshire                         440\n",
       "Bury                                    440\n",
       "Calderdale                              440\n",
       "Cumbria                                 440\n",
       "Dudley                                  440\n",
       "Dorset                                  440\n",
       "Doncaster                               440\n",
       "Devon                                   440\n",
       "Derbyshire                              440\n",
       "Derby                                   440\n",
       "Darlington                              440\n",
       "Croydon                                 440\n",
       "Cambridgeshire                          440\n",
       "Coventry                                440\n",
       "County Durham                           440\n",
       "Cornwall and Isles of Scilly            440\n",
       "Cheshire West and Chester               440\n",
       "Cheshire East                           440\n",
       "Central Bedfordshire                    440\n",
       "Camden                                  440\n",
       "North East Lincolnshire                 440\n",
       "Lincolnshire                            440\n",
       "Southend-on-Sea                         440\n",
       "Southampton                             440\n",
       "Wakefield                               440\n",
       "Walsall                                 440\n",
       "Waltham Forest                          440\n",
       "South Gloucestershire                   440\n",
       "Wandsworth                              440\n",
       "Somerset                                440\n",
       "Solihull                                440\n",
       "Slough                                  440\n",
       "Shropshire                              440\n",
       "Sheffield                               440\n",
       "Sefton                                  440\n",
       "Telford and Wrekin                      440\n",
       "Warwickshire                            440\n",
       "Sandwell                                440\n",
       "Salford                                 440\n",
       "South Tyneside                          440\n",
       "North Somerset                          440\n",
       "Rotherham                               440\n",
       "Southwark                               440\n",
       "Tameside                                440\n",
       "Swindon                                 440\n",
       "Sutton                                  440\n",
       "Surrey                                  440\n",
       "Sunderland                              440\n",
       "Suffolk                                 440\n",
       "Stoke-on-Trent                          440\n",
       "Thurrock                                440\n",
       "Stockton-on-Tees                        440\n",
       "Stockport                               440\n",
       "Staffordshire                           440\n",
       "Torbay                                  440\n",
       "St. Helens                              440\n",
       "Tower Hamlets                           440\n",
       "Trafford                                440\n",
       "West Berkshire                          440\n",
       "Warrington                              440\n",
       "Wigan                                   440\n",
       "Oldham                                  440\n",
       "Wiltshire                               440\n",
       "Windsor and Maidenhead                  440\n",
       "Oxfordshire                             440\n",
       "Nottingham                              440\n",
       "Wirral                                  440\n",
       "Westminster                             440\n",
       "Northumberland                          440\n",
       "West Sussex                             440\n",
       "Wokingham                               440\n",
       "Wolverhampton                           440\n",
       "Peterborough                            440\n",
       "Plymouth                                440\n",
       "Portsmouth                              440\n",
       "Northamptonshire                        440\n",
       "North Yorkshire                         440\n",
       "Reading                                 440\n",
       "Redbridge                               440\n",
       "Redcar and Cleveland                    440\n",
       "Worcestershire                          440\n",
       "North Tyneside                          440\n",
       "Richmond upon Thames                    440\n",
       "Rochdale                                440\n",
       "Nottinghamshire                         440\n",
       "Hartlepool                              439\n",
       "Rutland                                 436\n",
       "Merthyr Tydfil                          398\n",
       "Monmouthshire                           398\n",
       "Rhondda Cynon Taf                       398\n",
       "Swansea                                 398\n",
       "Newport                                 398\n",
       "Denbighshire                            398\n",
       "Powys                                   398\n",
       "Neath Port Talbot                       398\n",
       "Isle of Anglesey                        398\n",
       "Gwynedd                                 398\n",
       "Wrexham                                 398\n",
       "Flintshire                              398\n",
       "Cardiff                                 398\n",
       "Vale of Glamorgan                       398\n",
       "Conwy                                   398\n",
       "Bridgend                                397\n",
       "Torfaen                                 397\n",
       "Blaenau Gwent                           397\n",
       "Caerphilly                              397\n",
       "Carmarthenshire                         396\n",
       "Pembrokeshire                           394\n",
       "Ceredigion                              390\n",
       "Hackney and City of London              362\n",
       "Angus                                   336\n",
       "Aberdeen City                           336\n",
       "South Lanarkshire                       336\n",
       "Stirling                                336\n",
       "Midlothian                              336\n",
       "Dundee City                             336\n",
       "Renfrewshire                            336\n",
       "Falkirk                                 336\n",
       "Glasgow City                            336\n",
       "Fife                                    336\n",
       "City of Edinburgh                       335\n",
       "Aberdeenshire                           335\n",
       "Moray                                   335\n",
       "Perth and Kinross                       335\n",
       "West Lothian                            335\n",
       "Highland                                335\n",
       "Inverclyde                              335\n",
       "North Lanarkshire                       335\n",
       "Dumfries and Galloway                   335\n",
       "East Lothian                            335\n",
       "East Dunbartonshire                     335\n",
       "East Ayrshire                           335\n",
       "West Dunbartonshire                     334\n",
       "Argyll and Bute                         334\n",
       "East Renfrewshire                       333\n",
       "South Ayrshire                          330\n",
       "North Ayrshire                          328\n",
       "Scottish Borders                        327\n",
       "Shetland Islands                        326\n",
       "Clackmannanshire                        326\n",
       "Orkney Islands                          322\n",
       "Antrim and Newtownabbey                 316\n",
       "Ards and North Down                     316\n",
       "Belfast                                 316\n",
       "Causeway Coast and Glens                316\n",
       "Mid and East Antrim                     316\n",
       "Lisburn and Castlereagh                 316\n",
       "Newry, Mourne and Down                  315\n",
       "Armagh City, Banbridge and Craigavon    315\n",
       "Mid Ulster                              315\n",
       "Derry City and Strabane                 315\n",
       "Fermanagh and Omagh                     308\n",
       "Na h-Eileanan Siar                      300\n",
       "Name: areaName, dtype: int64"
      ]
     },
     "execution_count": 12,
     "metadata": {},
     "output_type": "execute_result"
    }
   ],
   "source": [
    "case_data.areaName.value_counts()"
   ]
  },
  {
   "cell_type": "code",
   "execution_count": 13,
   "metadata": {},
   "outputs": [],
   "source": [
    "d = case_data"
   ]
  },
  {
   "cell_type": "code",
   "execution_count": 14,
   "metadata": {},
   "outputs": [],
   "source": [
    "dd = {'Yorkshire and the Humber':['York', 'Kirklees', 'Leeds', 'North Lincolnshire','Kingston upon Hull, City of', 'East Riding of Yorkshire',\n",
    "                           'Bradford', 'Barnsley', 'Calderdale', 'Doncaster', 'North East Lincolnshire', 'Wakefield', 'Sheffield', \n",
    "                           'Rotherham', 'North Yorkshire'],\n",
    "'North East': [ 'Gateshead', 'Newcastle upon Tyne', 'Middlesbrough','Darlington', 'County Durham', 'South Tyneside',\n",
    "             'Sunderland', 'Stockton-on-Tees', 'Northumberland', 'Redcar and Cleveland', 'North Tyneside', 'Hartlepool'],\n",
    "'North West': [ 'Halton',  'Kirklees', 'Manchester', 'Liverpool','Tameside','Trafford', 'Wigan', 'Oldham', 'Wirral', 'Rochdale',\n",
    "              'Lancashire', 'Knowsley', 'Bolton', 'Blackpool', 'Blackburn with Darwen', 'Bury', 'Cumbria', 'Cheshire West and Chester',\n",
    "             'Cheshire East', 'Sefton', 'Salford', 'Stockport', 'St. Helens', 'Warrington'],\n",
    "'London': ['Kensington and Chelsea','Islington', 'Hounslow', 'Hillingdon', 'Havering', 'Harrow', 'Haringey', \n",
    "         'Hammersmith and Fulham', 'Greenwich', 'Kingston upon Thames', 'Newham', 'Merton','Lewisham','Lambeth',\n",
    "         'Enfield', 'Ealing', 'Bromley', 'Brent', 'Bexley', 'Barnet', 'Barking and Dagenham', 'Croydon', 'Camden', 'Waltham Forest',\n",
    "         'Wandsworth', 'Southwark', 'Sutton', 'Tower Hamlets', 'Westminster', 'Redbridge', 'Richmond upon Thames',\n",
    "         'Hackney and City of London'],\n",
    "'South East':['Isle of Wight', 'Hampshire', 'Kent', 'Milton Keynes', 'Medway', 'East Sussex', 'Brighton and Hove', 'Bracknell Forest',\n",
    "            'Buckinghamshire', 'Southampton', 'Slough', 'Surrey', 'West Berkshire', 'Windsor and Maidenhead',\n",
    "            'Oxfordshire', 'West Sussex', 'Wokingham', 'Portsmouth', 'Reading'],\n",
    "'South West' : ['Gloucestershire', 'Bristol, City of', 'Bournemouth, Christchurch and Poole', 'Bath and North East Somerset',\n",
    "             'Dorset', 'Devon', 'Cornwall and Isles of Scilly', 'South Gloucestershire', 'Somerset', 'North Somerset',\n",
    "             'Swindon', 'Torbay', 'Wiltshire', 'Plymouth'],\n",
    "'East of England':['Hertfordshire', 'Essex', 'Norfolk', 'Luton', 'Bedford', 'Cambridgeshire', 'Central Bedfordshire','Southend-on-Sea', 'Suffolk',\n",
    "       'Thurrock', 'Peterborough'],\n",
    "'West Midlands': ['Herefordshire, County of', 'Birmingham', 'Dudley', 'Coventry', 'Walsall', 'Solihull', 'Shropshire', 'Telford and Wrekin',\n",
    "                'Warwickshire', 'Sandwell', 'Stoke-on-Trent', 'Staffordshire', 'Wolverhampton', 'Worcestershire'],\n",
    "'East Midlands': ['Leicestershire', 'Leicester', 'Derbyshire', 'Derby', 'Lincolnshire', 'Nottingham', 'Northamptonshire',\n",
    "                'Nottinghamshire', 'Rutland'],\n",
    "'Wales': ['Merthyr Tydfil', 'Monmouthshire', 'Rhondda Cynon Taf', 'Swansea', 'Newport', 'Denbighshire', 'Powys',\n",
    "        'Neath Port Talbot', 'Isle of Anglesey', 'Gwynedd', 'Wrexham', 'Flintshire', 'Cardiff', 'Vale of Glamorgan',\n",
    "        'Conwy', 'Bridgend', 'Torfaen', 'Blaenau Gwent','Caerphilly','Carmarthenshire', 'Pembrokeshire', 'Ceredigion'],\n",
    "      \n",
    "'Scotland': ['Angus', 'Aberdeen City', 'South Lanarkshire', 'Stirling', 'Midlothian', 'Dundee City', 'Renfrewshire',\n",
    "           'Falkirk', 'Glasgow City', 'Fife', 'City of Edinburgh', 'Aberdeenshire', 'Moray', 'Perth and Kinross',\n",
    "           'West Lothian', 'Highland', 'Inverclyde', 'North Lanarkshire','Dumfries and Galloway', 'East Lothian',\n",
    "           'East Dunbartonshire', 'East Ayrshire', 'West Dunbartonshire', 'Argyll and Bute', 'East Renfrewshire',\n",
    "           'South Ayrshire', 'North Ayrshire', 'Scottish Borders', 'Shetland Islands', 'Clackmannanshire',\n",
    "           'Orkney Islands', 'Na h-Eileanan Siar'],\n",
    "'Northern Ireland': ['Antrim and Newtownabbey', 'Ards and North Down', 'Belfast', 'Causeway Coast and Glens', 'Mid and East Antrim',\n",
    "                   'Lisburn and Castlereagh', 'Newry, Mourne and Down', 'Armagh City, Banbridge and Craigavon', 'Mid Ulster',\n",
    "                   'Derry City and Strabane', 'Fermanagh and Omagh']}"
   ]
  },
  {
   "cell_type": "code",
   "execution_count": 15,
   "metadata": {},
   "outputs": [],
   "source": [
    "d1 = {k: oldk for oldk, oldv in dd.items() for k in oldv}"
   ]
  },
  {
   "cell_type": "code",
   "execution_count": 16,
   "metadata": {},
   "outputs": [],
   "source": [
    "d['region'] = d['areaName'].map(d1)"
   ]
  },
  {
   "cell_type": "code",
   "execution_count": 17,
   "metadata": {},
   "outputs": [],
   "source": [
    "d['region'] = d['region'].astype('category')"
   ]
  },
  {
   "cell_type": "code",
   "execution_count": 18,
   "metadata": {},
   "outputs": [],
   "source": [
    "dd1 = {'Yorkshire and the Humber':5526350 ,'North East': 2680763, 'North West':7367456 ,'London':9002488 ,'South East': 9217265,\n",
    "                       'South West':5659143,'East of England': 6269161 , 'West Midlands':5961929, 'East Midlands':4865583, 'Wales':3169586 , \n",
    "                       'Scotland':5466000 , 'Northern Ireland':1895510 }"
   ]
  },
  {
   "cell_type": "code",
   "execution_count": 19,
   "metadata": {},
   "outputs": [],
   "source": [
    "d['Day'] = d['date'].dt.day\n",
    "d['Month'] = d['date'].dt.month\n",
    "d['Year'] = d['date'].dt.year"
   ]
  },
  {
   "cell_type": "code",
   "execution_count": 20,
   "metadata": {},
   "outputs": [
    {
     "data": {
      "text/html": [
       "<div>\n",
       "<style scoped>\n",
       "    .dataframe tbody tr th:only-of-type {\n",
       "        vertical-align: middle;\n",
       "    }\n",
       "\n",
       "    .dataframe tbody tr th {\n",
       "        vertical-align: top;\n",
       "    }\n",
       "\n",
       "    .dataframe thead th {\n",
       "        text-align: right;\n",
       "    }\n",
       "</style>\n",
       "<table border=\"1\" class=\"dataframe\">\n",
       "  <thead>\n",
       "    <tr style=\"text-align: right;\">\n",
       "      <th></th>\n",
       "      <th>areaCode</th>\n",
       "      <th>areaName</th>\n",
       "      <th>areaType</th>\n",
       "      <th>date</th>\n",
       "      <th>newCasesByPublishDate</th>\n",
       "      <th>region</th>\n",
       "      <th>Day</th>\n",
       "      <th>Month</th>\n",
       "      <th>Year</th>\n",
       "    </tr>\n",
       "  </thead>\n",
       "  <tbody>\n",
       "    <tr>\n",
       "      <th>0</th>\n",
       "      <td>E06000003</td>\n",
       "      <td>Redcar and Cleveland</td>\n",
       "      <td>utla</td>\n",
       "      <td>2021-06-30</td>\n",
       "      <td>93</td>\n",
       "      <td>North East</td>\n",
       "      <td>30</td>\n",
       "      <td>6</td>\n",
       "      <td>2021</td>\n",
       "    </tr>\n",
       "    <tr>\n",
       "      <th>1</th>\n",
       "      <td>E06000014</td>\n",
       "      <td>York</td>\n",
       "      <td>utla</td>\n",
       "      <td>2021-06-30</td>\n",
       "      <td>146</td>\n",
       "      <td>Yorkshire and the Humber</td>\n",
       "      <td>30</td>\n",
       "      <td>6</td>\n",
       "      <td>2021</td>\n",
       "    </tr>\n",
       "    <tr>\n",
       "      <th>2</th>\n",
       "      <td>E06000050</td>\n",
       "      <td>Cheshire West and Chester</td>\n",
       "      <td>utla</td>\n",
       "      <td>2021-06-30</td>\n",
       "      <td>148</td>\n",
       "      <td>North West</td>\n",
       "      <td>30</td>\n",
       "      <td>6</td>\n",
       "      <td>2021</td>\n",
       "    </tr>\n",
       "    <tr>\n",
       "      <th>3</th>\n",
       "      <td>E08000001</td>\n",
       "      <td>Bolton</td>\n",
       "      <td>utla</td>\n",
       "      <td>2021-06-30</td>\n",
       "      <td>127</td>\n",
       "      <td>North West</td>\n",
       "      <td>30</td>\n",
       "      <td>6</td>\n",
       "      <td>2021</td>\n",
       "    </tr>\n",
       "    <tr>\n",
       "      <th>4</th>\n",
       "      <td>E08000016</td>\n",
       "      <td>Barnsley</td>\n",
       "      <td>utla</td>\n",
       "      <td>2021-06-30</td>\n",
       "      <td>157</td>\n",
       "      <td>Yorkshire and the Humber</td>\n",
       "      <td>30</td>\n",
       "      <td>6</td>\n",
       "      <td>2021</td>\n",
       "    </tr>\n",
       "  </tbody>\n",
       "</table>\n",
       "</div>"
      ],
      "text/plain": [
       "    areaCode                   areaName areaType       date  newCasesByPublishDate                    region  Day  Month  Year\n",
       "0  E06000003  Redcar and Cleveland       utla    2021-06-30  93                     North East                30   6      2021\n",
       "1  E06000014  York                       utla    2021-06-30  146                    Yorkshire and the Humber  30   6      2021\n",
       "2  E06000050  Cheshire West and Chester  utla    2021-06-30  148                    North West                30   6      2021\n",
       "3  E08000001  Bolton                     utla    2021-06-30  127                    North West                30   6      2021\n",
       "4  E08000016  Barnsley                   utla    2021-06-30  157                    Yorkshire and the Humber  30   6      2021"
      ]
     },
     "execution_count": 20,
     "metadata": {},
     "output_type": "execute_result"
    }
   ],
   "source": [
    "d.head()"
   ]
  },
  {
   "cell_type": "markdown",
   "metadata": {},
   "source": [
    "## Covid Infections over time"
   ]
  },
  {
   "cell_type": "code",
   "execution_count": 21,
   "metadata": {},
   "outputs": [
    {
     "data": {
      "text/html": [
       "<div>\n",
       "<style scoped>\n",
       "    .dataframe tbody tr th:only-of-type {\n",
       "        vertical-align: middle;\n",
       "    }\n",
       "\n",
       "    .dataframe tbody tr th {\n",
       "        vertical-align: top;\n",
       "    }\n",
       "\n",
       "    .dataframe thead th {\n",
       "        text-align: right;\n",
       "    }\n",
       "</style>\n",
       "<table border=\"1\" class=\"dataframe\">\n",
       "  <thead>\n",
       "    <tr style=\"text-align: right;\">\n",
       "      <th>Month</th>\n",
       "      <th>1</th>\n",
       "      <th>2</th>\n",
       "      <th>3</th>\n",
       "      <th>4</th>\n",
       "      <th>5</th>\n",
       "      <th>6</th>\n",
       "      <th>7</th>\n",
       "      <th>8</th>\n",
       "      <th>9</th>\n",
       "      <th>10</th>\n",
       "      <th>11</th>\n",
       "      <th>12</th>\n",
       "    </tr>\n",
       "    <tr>\n",
       "      <th>Year</th>\n",
       "      <th></th>\n",
       "      <th></th>\n",
       "      <th></th>\n",
       "      <th></th>\n",
       "      <th></th>\n",
       "      <th></th>\n",
       "      <th></th>\n",
       "      <th></th>\n",
       "      <th></th>\n",
       "      <th></th>\n",
       "      <th></th>\n",
       "      <th></th>\n",
       "    </tr>\n",
       "  </thead>\n",
       "  <tbody>\n",
       "    <tr>\n",
       "      <th>2020</th>\n",
       "      <td>0</td>\n",
       "      <td>0</td>\n",
       "      <td>0</td>\n",
       "      <td>2067</td>\n",
       "      <td>4642</td>\n",
       "      <td>5094</td>\n",
       "      <td>5330</td>\n",
       "      <td>6347</td>\n",
       "      <td>6417</td>\n",
       "      <td>6634</td>\n",
       "      <td>6420</td>\n",
       "      <td>6634</td>\n",
       "    </tr>\n",
       "    <tr>\n",
       "      <th>2021</th>\n",
       "      <td>6634</td>\n",
       "      <td>5992</td>\n",
       "      <td>6634</td>\n",
       "      <td>6420</td>\n",
       "      <td>6634</td>\n",
       "      <td>6420</td>\n",
       "      <td>0</td>\n",
       "      <td>0</td>\n",
       "      <td>0</td>\n",
       "      <td>0</td>\n",
       "      <td>0</td>\n",
       "      <td>0</td>\n",
       "    </tr>\n",
       "  </tbody>\n",
       "</table>\n",
       "</div>"
      ],
      "text/plain": [
       "Month     1     2     3     4     5     6     7     8     9    10    11    12\n",
       "Year                                                                         \n",
       "2020   0     0     0     2067  4642  5094  5330  6347  6417  6634  6420  6634\n",
       "2021   6634  5992  6634  6420  6634  6420  0     0     0     0     0     0   "
      ]
     },
     "execution_count": 21,
     "metadata": {},
     "output_type": "execute_result"
    }
   ],
   "source": [
    "pd.DataFrame(pd.crosstab(d.Year, d.Month))"
   ]
  },
  {
   "cell_type": "code",
   "execution_count": 22,
   "metadata": {},
   "outputs": [
    {
     "data": {
      "text/html": [
       "<div>\n",
       "<style scoped>\n",
       "    .dataframe tbody tr th:only-of-type {\n",
       "        vertical-align: middle;\n",
       "    }\n",
       "\n",
       "    .dataframe tbody tr th {\n",
       "        vertical-align: top;\n",
       "    }\n",
       "\n",
       "    .dataframe thead th {\n",
       "        text-align: right;\n",
       "    }\n",
       "</style>\n",
       "<table border=\"1\" class=\"dataframe\">\n",
       "  <thead>\n",
       "    <tr style=\"text-align: right;\">\n",
       "      <th>Month</th>\n",
       "      <th>4</th>\n",
       "      <th>5</th>\n",
       "      <th>6</th>\n",
       "      <th>7</th>\n",
       "      <th>8</th>\n",
       "      <th>9</th>\n",
       "      <th>10</th>\n",
       "      <th>11</th>\n",
       "      <th>12</th>\n",
       "    </tr>\n",
       "    <tr>\n",
       "      <th>Day</th>\n",
       "      <th></th>\n",
       "      <th></th>\n",
       "      <th></th>\n",
       "      <th></th>\n",
       "      <th></th>\n",
       "      <th></th>\n",
       "      <th></th>\n",
       "      <th></th>\n",
       "      <th></th>\n",
       "    </tr>\n",
       "  </thead>\n",
       "  <tbody>\n",
       "    <tr>\n",
       "      <th>1</th>\n",
       "      <td>0</td>\n",
       "      <td>148</td>\n",
       "      <td>168</td>\n",
       "      <td>170</td>\n",
       "      <td>195</td>\n",
       "      <td>213</td>\n",
       "      <td>214</td>\n",
       "      <td>214</td>\n",
       "      <td>214</td>\n",
       "    </tr>\n",
       "    <tr>\n",
       "      <th>2</th>\n",
       "      <td>0</td>\n",
       "      <td>148</td>\n",
       "      <td>169</td>\n",
       "      <td>170</td>\n",
       "      <td>196</td>\n",
       "      <td>213</td>\n",
       "      <td>214</td>\n",
       "      <td>214</td>\n",
       "      <td>214</td>\n",
       "    </tr>\n",
       "    <tr>\n",
       "      <th>3</th>\n",
       "      <td>0</td>\n",
       "      <td>148</td>\n",
       "      <td>169</td>\n",
       "      <td>170</td>\n",
       "      <td>196</td>\n",
       "      <td>213</td>\n",
       "      <td>214</td>\n",
       "      <td>214</td>\n",
       "      <td>214</td>\n",
       "    </tr>\n",
       "    <tr>\n",
       "      <th>4</th>\n",
       "      <td>0</td>\n",
       "      <td>148</td>\n",
       "      <td>169</td>\n",
       "      <td>171</td>\n",
       "      <td>196</td>\n",
       "      <td>214</td>\n",
       "      <td>214</td>\n",
       "      <td>214</td>\n",
       "      <td>214</td>\n",
       "    </tr>\n",
       "    <tr>\n",
       "      <th>5</th>\n",
       "      <td>0</td>\n",
       "      <td>148</td>\n",
       "      <td>169</td>\n",
       "      <td>171</td>\n",
       "      <td>197</td>\n",
       "      <td>214</td>\n",
       "      <td>214</td>\n",
       "      <td>214</td>\n",
       "      <td>214</td>\n",
       "    </tr>\n",
       "    <tr>\n",
       "      <th>6</th>\n",
       "      <td>0</td>\n",
       "      <td>148</td>\n",
       "      <td>170</td>\n",
       "      <td>171</td>\n",
       "      <td>197</td>\n",
       "      <td>214</td>\n",
       "      <td>214</td>\n",
       "      <td>214</td>\n",
       "      <td>214</td>\n",
       "    </tr>\n",
       "    <tr>\n",
       "      <th>7</th>\n",
       "      <td>0</td>\n",
       "      <td>148</td>\n",
       "      <td>170</td>\n",
       "      <td>171</td>\n",
       "      <td>198</td>\n",
       "      <td>214</td>\n",
       "      <td>214</td>\n",
       "      <td>214</td>\n",
       "      <td>214</td>\n",
       "    </tr>\n",
       "    <tr>\n",
       "      <th>8</th>\n",
       "      <td>0</td>\n",
       "      <td>148</td>\n",
       "      <td>170</td>\n",
       "      <td>171</td>\n",
       "      <td>199</td>\n",
       "      <td>214</td>\n",
       "      <td>214</td>\n",
       "      <td>214</td>\n",
       "      <td>214</td>\n",
       "    </tr>\n",
       "    <tr>\n",
       "      <th>9</th>\n",
       "      <td>0</td>\n",
       "      <td>148</td>\n",
       "      <td>170</td>\n",
       "      <td>171</td>\n",
       "      <td>201</td>\n",
       "      <td>214</td>\n",
       "      <td>214</td>\n",
       "      <td>214</td>\n",
       "      <td>214</td>\n",
       "    </tr>\n",
       "    <tr>\n",
       "      <th>10</th>\n",
       "      <td>0</td>\n",
       "      <td>148</td>\n",
       "      <td>170</td>\n",
       "      <td>171</td>\n",
       "      <td>201</td>\n",
       "      <td>214</td>\n",
       "      <td>214</td>\n",
       "      <td>214</td>\n",
       "      <td>214</td>\n",
       "    </tr>\n",
       "    <tr>\n",
       "      <th>11</th>\n",
       "      <td>0</td>\n",
       "      <td>148</td>\n",
       "      <td>170</td>\n",
       "      <td>171</td>\n",
       "      <td>201</td>\n",
       "      <td>214</td>\n",
       "      <td>214</td>\n",
       "      <td>214</td>\n",
       "      <td>214</td>\n",
       "    </tr>\n",
       "    <tr>\n",
       "      <th>12</th>\n",
       "      <td>0</td>\n",
       "      <td>148</td>\n",
       "      <td>170</td>\n",
       "      <td>171</td>\n",
       "      <td>201</td>\n",
       "      <td>214</td>\n",
       "      <td>214</td>\n",
       "      <td>214</td>\n",
       "      <td>214</td>\n",
       "    </tr>\n",
       "    <tr>\n",
       "      <th>13</th>\n",
       "      <td>0</td>\n",
       "      <td>148</td>\n",
       "      <td>170</td>\n",
       "      <td>171</td>\n",
       "      <td>202</td>\n",
       "      <td>214</td>\n",
       "      <td>214</td>\n",
       "      <td>214</td>\n",
       "      <td>214</td>\n",
       "    </tr>\n",
       "    <tr>\n",
       "      <th>14</th>\n",
       "      <td>0</td>\n",
       "      <td>148</td>\n",
       "      <td>170</td>\n",
       "      <td>171</td>\n",
       "      <td>202</td>\n",
       "      <td>214</td>\n",
       "      <td>214</td>\n",
       "      <td>214</td>\n",
       "      <td>214</td>\n",
       "    </tr>\n",
       "    <tr>\n",
       "      <th>15</th>\n",
       "      <td>0</td>\n",
       "      <td>148</td>\n",
       "      <td>170</td>\n",
       "      <td>171</td>\n",
       "      <td>202</td>\n",
       "      <td>214</td>\n",
       "      <td>214</td>\n",
       "      <td>214</td>\n",
       "      <td>214</td>\n",
       "    </tr>\n",
       "    <tr>\n",
       "      <th>16</th>\n",
       "      <td>0</td>\n",
       "      <td>148</td>\n",
       "      <td>170</td>\n",
       "      <td>171</td>\n",
       "      <td>202</td>\n",
       "      <td>214</td>\n",
       "      <td>214</td>\n",
       "      <td>214</td>\n",
       "      <td>214</td>\n",
       "    </tr>\n",
       "    <tr>\n",
       "      <th>17</th>\n",
       "      <td>146</td>\n",
       "      <td>148</td>\n",
       "      <td>170</td>\n",
       "      <td>171</td>\n",
       "      <td>202</td>\n",
       "      <td>214</td>\n",
       "      <td>214</td>\n",
       "      <td>214</td>\n",
       "      <td>214</td>\n",
       "    </tr>\n",
       "    <tr>\n",
       "      <th>18</th>\n",
       "      <td>147</td>\n",
       "      <td>148</td>\n",
       "      <td>170</td>\n",
       "      <td>171</td>\n",
       "      <td>202</td>\n",
       "      <td>214</td>\n",
       "      <td>214</td>\n",
       "      <td>214</td>\n",
       "      <td>214</td>\n",
       "    </tr>\n",
       "    <tr>\n",
       "      <th>19</th>\n",
       "      <td>147</td>\n",
       "      <td>148</td>\n",
       "      <td>170</td>\n",
       "      <td>171</td>\n",
       "      <td>208</td>\n",
       "      <td>214</td>\n",
       "      <td>214</td>\n",
       "      <td>214</td>\n",
       "      <td>214</td>\n",
       "    </tr>\n",
       "    <tr>\n",
       "      <th>20</th>\n",
       "      <td>147</td>\n",
       "      <td>148</td>\n",
       "      <td>170</td>\n",
       "      <td>171</td>\n",
       "      <td>212</td>\n",
       "      <td>214</td>\n",
       "      <td>214</td>\n",
       "      <td>214</td>\n",
       "      <td>214</td>\n",
       "    </tr>\n",
       "    <tr>\n",
       "      <th>21</th>\n",
       "      <td>148</td>\n",
       "      <td>148</td>\n",
       "      <td>170</td>\n",
       "      <td>171</td>\n",
       "      <td>212</td>\n",
       "      <td>214</td>\n",
       "      <td>214</td>\n",
       "      <td>214</td>\n",
       "      <td>214</td>\n",
       "    </tr>\n",
       "    <tr>\n",
       "      <th>22</th>\n",
       "      <td>148</td>\n",
       "      <td>148</td>\n",
       "      <td>170</td>\n",
       "      <td>171</td>\n",
       "      <td>212</td>\n",
       "      <td>214</td>\n",
       "      <td>214</td>\n",
       "      <td>214</td>\n",
       "      <td>214</td>\n",
       "    </tr>\n",
       "    <tr>\n",
       "      <th>23</th>\n",
       "      <td>148</td>\n",
       "      <td>148</td>\n",
       "      <td>170</td>\n",
       "      <td>171</td>\n",
       "      <td>212</td>\n",
       "      <td>214</td>\n",
       "      <td>214</td>\n",
       "      <td>214</td>\n",
       "      <td>214</td>\n",
       "    </tr>\n",
       "    <tr>\n",
       "      <th>24</th>\n",
       "      <td>148</td>\n",
       "      <td>148</td>\n",
       "      <td>170</td>\n",
       "      <td>171</td>\n",
       "      <td>212</td>\n",
       "      <td>214</td>\n",
       "      <td>214</td>\n",
       "      <td>214</td>\n",
       "      <td>214</td>\n",
       "    </tr>\n",
       "    <tr>\n",
       "      <th>25</th>\n",
       "      <td>148</td>\n",
       "      <td>148</td>\n",
       "      <td>170</td>\n",
       "      <td>171</td>\n",
       "      <td>212</td>\n",
       "      <td>214</td>\n",
       "      <td>214</td>\n",
       "      <td>214</td>\n",
       "      <td>214</td>\n",
       "    </tr>\n",
       "    <tr>\n",
       "      <th>26</th>\n",
       "      <td>148</td>\n",
       "      <td>148</td>\n",
       "      <td>170</td>\n",
       "      <td>171</td>\n",
       "      <td>212</td>\n",
       "      <td>214</td>\n",
       "      <td>214</td>\n",
       "      <td>214</td>\n",
       "      <td>214</td>\n",
       "    </tr>\n",
       "    <tr>\n",
       "      <th>27</th>\n",
       "      <td>148</td>\n",
       "      <td>148</td>\n",
       "      <td>170</td>\n",
       "      <td>171</td>\n",
       "      <td>213</td>\n",
       "      <td>214</td>\n",
       "      <td>214</td>\n",
       "      <td>214</td>\n",
       "      <td>214</td>\n",
       "    </tr>\n",
       "    <tr>\n",
       "      <th>28</th>\n",
       "      <td>148</td>\n",
       "      <td>148</td>\n",
       "      <td>170</td>\n",
       "      <td>171</td>\n",
       "      <td>213</td>\n",
       "      <td>214</td>\n",
       "      <td>214</td>\n",
       "      <td>214</td>\n",
       "      <td>214</td>\n",
       "    </tr>\n",
       "    <tr>\n",
       "      <th>29</th>\n",
       "      <td>148</td>\n",
       "      <td>163</td>\n",
       "      <td>170</td>\n",
       "      <td>171</td>\n",
       "      <td>213</td>\n",
       "      <td>214</td>\n",
       "      <td>214</td>\n",
       "      <td>214</td>\n",
       "      <td>214</td>\n",
       "    </tr>\n",
       "    <tr>\n",
       "      <th>30</th>\n",
       "      <td>148</td>\n",
       "      <td>167</td>\n",
       "      <td>170</td>\n",
       "      <td>181</td>\n",
       "      <td>213</td>\n",
       "      <td>214</td>\n",
       "      <td>214</td>\n",
       "      <td>214</td>\n",
       "      <td>214</td>\n",
       "    </tr>\n",
       "    <tr>\n",
       "      <th>31</th>\n",
       "      <td>0</td>\n",
       "      <td>168</td>\n",
       "      <td>0</td>\n",
       "      <td>193</td>\n",
       "      <td>213</td>\n",
       "      <td>0</td>\n",
       "      <td>214</td>\n",
       "      <td>0</td>\n",
       "      <td>214</td>\n",
       "    </tr>\n",
       "  </tbody>\n",
       "</table>\n",
       "</div>"
      ],
      "text/plain": [
       "Month    4    5    6    7    8    9   10   11   12\n",
       "Day                                               \n",
       "1      0    148  168  170  195  213  214  214  214\n",
       "2      0    148  169  170  196  213  214  214  214\n",
       "3      0    148  169  170  196  213  214  214  214\n",
       "4      0    148  169  171  196  214  214  214  214\n",
       "5      0    148  169  171  197  214  214  214  214\n",
       "6      0    148  170  171  197  214  214  214  214\n",
       "7      0    148  170  171  198  214  214  214  214\n",
       "8      0    148  170  171  199  214  214  214  214\n",
       "9      0    148  170  171  201  214  214  214  214\n",
       "10     0    148  170  171  201  214  214  214  214\n",
       "11     0    148  170  171  201  214  214  214  214\n",
       "12     0    148  170  171  201  214  214  214  214\n",
       "13     0    148  170  171  202  214  214  214  214\n",
       "14     0    148  170  171  202  214  214  214  214\n",
       "15     0    148  170  171  202  214  214  214  214\n",
       "16     0    148  170  171  202  214  214  214  214\n",
       "17     146  148  170  171  202  214  214  214  214\n",
       "18     147  148  170  171  202  214  214  214  214\n",
       "19     147  148  170  171  208  214  214  214  214\n",
       "20     147  148  170  171  212  214  214  214  214\n",
       "21     148  148  170  171  212  214  214  214  214\n",
       "22     148  148  170  171  212  214  214  214  214\n",
       "23     148  148  170  171  212  214  214  214  214\n",
       "24     148  148  170  171  212  214  214  214  214\n",
       "25     148  148  170  171  212  214  214  214  214\n",
       "26     148  148  170  171  212  214  214  214  214\n",
       "27     148  148  170  171  213  214  214  214  214\n",
       "28     148  148  170  171  213  214  214  214  214\n",
       "29     148  163  170  171  213  214  214  214  214\n",
       "30     148  167  170  181  213  214  214  214  214\n",
       "31     0    168  0    193  213  0    214  0    214"
      ]
     },
     "execution_count": 22,
     "metadata": {},
     "output_type": "execute_result"
    }
   ],
   "source": [
    "m = d[d.Year==2020]\n",
    "pd.DataFrame(pd.crosstab(m.Day, m.Month))"
   ]
  },
  {
   "cell_type": "code",
   "execution_count": 23,
   "metadata": {},
   "outputs": [
    {
     "data": {
      "image/png": "[encoded data removed]",
      "text/plain": [
       "<Figure size 720x360 with 1 Axes>"
      ]
     },
     "metadata": {
      "needs_background": "light"
     },
     "output_type": "display_data"
    }
   ],
   "source": [
    "\n",
    "\n",
    "m.groupby('Month')['Day'].count().plot(figsize=(10,5), linewidth=2, fontsize=12)\n",
    "plt.xlabel('Month', fontsize=20);"
   ]
  },
  {
   "cell_type": "code",
   "execution_count": 24,
   "metadata": {},
   "outputs": [
    {
     "data": {
      "text/html": [
       "<div>\n",
       "<style scoped>\n",
       "    .dataframe tbody tr th:only-of-type {\n",
       "        vertical-align: middle;\n",
       "    }\n",
       "\n",
       "    .dataframe tbody tr th {\n",
       "        vertical-align: top;\n",
       "    }\n",
       "\n",
       "    .dataframe thead th {\n",
       "        text-align: right;\n",
       "    }\n",
       "</style>\n",
       "<table border=\"1\" class=\"dataframe\">\n",
       "  <thead>\n",
       "    <tr style=\"text-align: right;\">\n",
       "      <th>Month</th>\n",
       "      <th>1</th>\n",
       "      <th>2</th>\n",
       "      <th>3</th>\n",
       "      <th>4</th>\n",
       "      <th>5</th>\n",
       "      <th>6</th>\n",
       "    </tr>\n",
       "    <tr>\n",
       "      <th>Day</th>\n",
       "      <th></th>\n",
       "      <th></th>\n",
       "      <th></th>\n",
       "      <th></th>\n",
       "      <th></th>\n",
       "      <th></th>\n",
       "    </tr>\n",
       "  </thead>\n",
       "  <tbody>\n",
       "    <tr>\n",
       "      <th>1</th>\n",
       "      <td>214</td>\n",
       "      <td>214</td>\n",
       "      <td>214</td>\n",
       "      <td>214</td>\n",
       "      <td>214</td>\n",
       "      <td>214</td>\n",
       "    </tr>\n",
       "    <tr>\n",
       "      <th>2</th>\n",
       "      <td>214</td>\n",
       "      <td>214</td>\n",
       "      <td>214</td>\n",
       "      <td>214</td>\n",
       "      <td>214</td>\n",
       "      <td>214</td>\n",
       "    </tr>\n",
       "    <tr>\n",
       "      <th>3</th>\n",
       "      <td>214</td>\n",
       "      <td>214</td>\n",
       "      <td>214</td>\n",
       "      <td>214</td>\n",
       "      <td>214</td>\n",
       "      <td>214</td>\n",
       "    </tr>\n",
       "    <tr>\n",
       "      <th>4</th>\n",
       "      <td>214</td>\n",
       "      <td>214</td>\n",
       "      <td>214</td>\n",
       "      <td>214</td>\n",
       "      <td>214</td>\n",
       "      <td>214</td>\n",
       "    </tr>\n",
       "    <tr>\n",
       "      <th>5</th>\n",
       "      <td>214</td>\n",
       "      <td>214</td>\n",
       "      <td>214</td>\n",
       "      <td>214</td>\n",
       "      <td>214</td>\n",
       "      <td>214</td>\n",
       "    </tr>\n",
       "    <tr>\n",
       "      <th>6</th>\n",
       "      <td>214</td>\n",
       "      <td>214</td>\n",
       "      <td>214</td>\n",
       "      <td>214</td>\n",
       "      <td>214</td>\n",
       "      <td>214</td>\n",
       "    </tr>\n",
       "    <tr>\n",
       "      <th>7</th>\n",
       "      <td>214</td>\n",
       "      <td>214</td>\n",
       "      <td>214</td>\n",
       "      <td>214</td>\n",
       "      <td>214</td>\n",
       "      <td>214</td>\n",
       "    </tr>\n",
       "    <tr>\n",
       "      <th>8</th>\n",
       "      <td>214</td>\n",
       "      <td>214</td>\n",
       "      <td>214</td>\n",
       "      <td>214</td>\n",
       "      <td>214</td>\n",
       "      <td>214</td>\n",
       "    </tr>\n",
       "    <tr>\n",
       "      <th>9</th>\n",
       "      <td>214</td>\n",
       "      <td>214</td>\n",
       "      <td>214</td>\n",
       "      <td>214</td>\n",
       "      <td>214</td>\n",
       "      <td>214</td>\n",
       "    </tr>\n",
       "    <tr>\n",
       "      <th>10</th>\n",
       "      <td>214</td>\n",
       "      <td>214</td>\n",
       "      <td>214</td>\n",
       "      <td>214</td>\n",
       "      <td>214</td>\n",
       "      <td>214</td>\n",
       "    </tr>\n",
       "    <tr>\n",
       "      <th>11</th>\n",
       "      <td>214</td>\n",
       "      <td>214</td>\n",
       "      <td>214</td>\n",
       "      <td>214</td>\n",
       "      <td>214</td>\n",
       "      <td>214</td>\n",
       "    </tr>\n",
       "    <tr>\n",
       "      <th>12</th>\n",
       "      <td>214</td>\n",
       "      <td>214</td>\n",
       "      <td>214</td>\n",
       "      <td>214</td>\n",
       "      <td>214</td>\n",
       "      <td>214</td>\n",
       "    </tr>\n",
       "    <tr>\n",
       "      <th>13</th>\n",
       "      <td>214</td>\n",
       "      <td>214</td>\n",
       "      <td>214</td>\n",
       "      <td>214</td>\n",
       "      <td>214</td>\n",
       "      <td>214</td>\n",
       "    </tr>\n",
       "    <tr>\n",
       "      <th>14</th>\n",
       "      <td>214</td>\n",
       "      <td>214</td>\n",
       "      <td>214</td>\n",
       "      <td>214</td>\n",
       "      <td>214</td>\n",
       "      <td>214</td>\n",
       "    </tr>\n",
       "    <tr>\n",
       "      <th>15</th>\n",
       "      <td>214</td>\n",
       "      <td>214</td>\n",
       "      <td>214</td>\n",
       "      <td>214</td>\n",
       "      <td>214</td>\n",
       "      <td>214</td>\n",
       "    </tr>\n",
       "    <tr>\n",
       "      <th>16</th>\n",
       "      <td>214</td>\n",
       "      <td>214</td>\n",
       "      <td>214</td>\n",
       "      <td>214</td>\n",
       "      <td>214</td>\n",
       "      <td>214</td>\n",
       "    </tr>\n",
       "    <tr>\n",
       "      <th>17</th>\n",
       "      <td>214</td>\n",
       "      <td>214</td>\n",
       "      <td>214</td>\n",
       "      <td>214</td>\n",
       "      <td>214</td>\n",
       "      <td>214</td>\n",
       "    </tr>\n",
       "    <tr>\n",
       "      <th>18</th>\n",
       "      <td>214</td>\n",
       "      <td>214</td>\n",
       "      <td>214</td>\n",
       "      <td>214</td>\n",
       "      <td>214</td>\n",
       "      <td>214</td>\n",
       "    </tr>\n",
       "    <tr>\n",
       "      <th>19</th>\n",
       "      <td>214</td>\n",
       "      <td>214</td>\n",
       "      <td>214</td>\n",
       "      <td>214</td>\n",
       "      <td>214</td>\n",
       "      <td>214</td>\n",
       "    </tr>\n",
       "    <tr>\n",
       "      <th>20</th>\n",
       "      <td>214</td>\n",
       "      <td>214</td>\n",
       "      <td>214</td>\n",
       "      <td>214</td>\n",
       "      <td>214</td>\n",
       "      <td>214</td>\n",
       "    </tr>\n",
       "    <tr>\n",
       "      <th>21</th>\n",
       "      <td>214</td>\n",
       "      <td>214</td>\n",
       "      <td>214</td>\n",
       "      <td>214</td>\n",
       "      <td>214</td>\n",
       "      <td>214</td>\n",
       "    </tr>\n",
       "    <tr>\n",
       "      <th>22</th>\n",
       "      <td>214</td>\n",
       "      <td>214</td>\n",
       "      <td>214</td>\n",
       "      <td>214</td>\n",
       "      <td>214</td>\n",
       "      <td>214</td>\n",
       "    </tr>\n",
       "    <tr>\n",
       "      <th>23</th>\n",
       "      <td>214</td>\n",
       "      <td>214</td>\n",
       "      <td>214</td>\n",
       "      <td>214</td>\n",
       "      <td>214</td>\n",
       "      <td>214</td>\n",
       "    </tr>\n",
       "    <tr>\n",
       "      <th>24</th>\n",
       "      <td>214</td>\n",
       "      <td>214</td>\n",
       "      <td>214</td>\n",
       "      <td>214</td>\n",
       "      <td>214</td>\n",
       "      <td>214</td>\n",
       "    </tr>\n",
       "    <tr>\n",
       "      <th>25</th>\n",
       "      <td>214</td>\n",
       "      <td>214</td>\n",
       "      <td>214</td>\n",
       "      <td>214</td>\n",
       "      <td>214</td>\n",
       "      <td>214</td>\n",
       "    </tr>\n",
       "    <tr>\n",
       "      <th>26</th>\n",
       "      <td>214</td>\n",
       "      <td>214</td>\n",
       "      <td>214</td>\n",
       "      <td>214</td>\n",
       "      <td>214</td>\n",
       "      <td>214</td>\n",
       "    </tr>\n",
       "    <tr>\n",
       "      <th>27</th>\n",
       "      <td>214</td>\n",
       "      <td>214</td>\n",
       "      <td>214</td>\n",
       "      <td>214</td>\n",
       "      <td>214</td>\n",
       "      <td>214</td>\n",
       "    </tr>\n",
       "    <tr>\n",
       "      <th>28</th>\n",
       "      <td>214</td>\n",
       "      <td>214</td>\n",
       "      <td>214</td>\n",
       "      <td>214</td>\n",
       "      <td>214</td>\n",
       "      <td>214</td>\n",
       "    </tr>\n",
       "    <tr>\n",
       "      <th>29</th>\n",
       "      <td>214</td>\n",
       "      <td>0</td>\n",
       "      <td>214</td>\n",
       "      <td>214</td>\n",
       "      <td>214</td>\n",
       "      <td>214</td>\n",
       "    </tr>\n",
       "    <tr>\n",
       "      <th>30</th>\n",
       "      <td>214</td>\n",
       "      <td>0</td>\n",
       "      <td>214</td>\n",
       "      <td>214</td>\n",
       "      <td>214</td>\n",
       "      <td>214</td>\n",
       "    </tr>\n",
       "    <tr>\n",
       "      <th>31</th>\n",
       "      <td>214</td>\n",
       "      <td>0</td>\n",
       "      <td>214</td>\n",
       "      <td>0</td>\n",
       "      <td>214</td>\n",
       "      <td>0</td>\n",
       "    </tr>\n",
       "  </tbody>\n",
       "</table>\n",
       "</div>"
      ],
      "text/plain": [
       "Month    1    2    3    4    5    6\n",
       "Day                                \n",
       "1      214  214  214  214  214  214\n",
       "2      214  214  214  214  214  214\n",
       "3      214  214  214  214  214  214\n",
       "4      214  214  214  214  214  214\n",
       "5      214  214  214  214  214  214\n",
       "6      214  214  214  214  214  214\n",
       "7      214  214  214  214  214  214\n",
       "8      214  214  214  214  214  214\n",
       "9      214  214  214  214  214  214\n",
       "10     214  214  214  214  214  214\n",
       "11     214  214  214  214  214  214\n",
       "12     214  214  214  214  214  214\n",
       "13     214  214  214  214  214  214\n",
       "14     214  214  214  214  214  214\n",
       "15     214  214  214  214  214  214\n",
       "16     214  214  214  214  214  214\n",
       "17     214  214  214  214  214  214\n",
       "18     214  214  214  214  214  214\n",
       "19     214  214  214  214  214  214\n",
       "20     214  214  214  214  214  214\n",
       "21     214  214  214  214  214  214\n",
       "22     214  214  214  214  214  214\n",
       "23     214  214  214  214  214  214\n",
       "24     214  214  214  214  214  214\n",
       "25     214  214  214  214  214  214\n",
       "26     214  214  214  214  214  214\n",
       "27     214  214  214  214  214  214\n",
       "28     214  214  214  214  214  214\n",
       "29     214  0    214  214  214  214\n",
       "30     214  0    214  214  214  214\n",
       "31     214  0    214  0    214  0  "
      ]
     },
     "execution_count": 24,
     "metadata": {},
     "output_type": "execute_result"
    }
   ],
   "source": [
    "mm = d[d.Year==2021]\n",
    "pd.DataFrame(pd.crosstab(mm.Day, mm.Month))"
   ]
  },
  {
   "cell_type": "code",
   "execution_count": 25,
   "metadata": {},
   "outputs": [
    {
     "data": {
      "image/png": "[encoded data removed]",
      "text/plain": [
       "<Figure size 720x360 with 1 Axes>"
      ]
     },
     "metadata": {
      "needs_background": "light"
     },
     "output_type": "display_data"
    }
   ],
   "source": [
    "mm.groupby('Month')['Day'].count().plot(figsize=(10,5), linewidth=2, fontsize=12)\n",
    "plt.xlabel('Month', fontsize=20);"
   ]
  },
  {
   "cell_type": "code",
   "execution_count": 91,
   "metadata": {},
   "outputs": [
    {
     "data": {
      "text/html": [
       "<div>\n",
       "<style scoped>\n",
       "    .dataframe tbody tr th:only-of-type {\n",
       "        vertical-align: middle;\n",
       "    }\n",
       "\n",
       "    .dataframe tbody tr th {\n",
       "        vertical-align: top;\n",
       "    }\n",
       "\n",
       "    .dataframe thead th {\n",
       "        text-align: right;\n",
       "    }\n",
       "</style>\n",
       "<table border=\"1\" class=\"dataframe\">\n",
       "  <thead>\n",
       "    <tr style=\"text-align: right;\">\n",
       "      <th></th>\n",
       "      <th>areaCode</th>\n",
       "      <th>areaName</th>\n",
       "      <th>areaType</th>\n",
       "      <th>date</th>\n",
       "      <th>newCasesByPublishDate</th>\n",
       "      <th>region</th>\n",
       "      <th>Day</th>\n",
       "      <th>Month</th>\n",
       "      <th>Year</th>\n",
       "    </tr>\n",
       "  </thead>\n",
       "  <tbody>\n",
       "    <tr>\n",
       "      <th>450</th>\n",
       "      <td>E06000003</td>\n",
       "      <td>Redcar and Cleveland</td>\n",
       "      <td>utla</td>\n",
       "      <td>2021-05-31</td>\n",
       "      <td>1</td>\n",
       "      <td>North East</td>\n",
       "      <td>31</td>\n",
       "      <td>5</td>\n",
       "      <td>2021</td>\n",
       "    </tr>\n",
       "    <tr>\n",
       "      <th>451</th>\n",
       "      <td>E06000014</td>\n",
       "      <td>York</td>\n",
       "      <td>utla</td>\n",
       "      <td>2021-05-31</td>\n",
       "      <td>15</td>\n",
       "      <td>Yorkshire and the Humber</td>\n",
       "      <td>31</td>\n",
       "      <td>5</td>\n",
       "      <td>2021</td>\n",
       "    </tr>\n",
       "    <tr>\n",
       "      <th>452</th>\n",
       "      <td>E06000050</td>\n",
       "      <td>Cheshire West and Chester</td>\n",
       "      <td>utla</td>\n",
       "      <td>2021-05-31</td>\n",
       "      <td>30</td>\n",
       "      <td>North West</td>\n",
       "      <td>31</td>\n",
       "      <td>5</td>\n",
       "      <td>2021</td>\n",
       "    </tr>\n",
       "    <tr>\n",
       "      <th>453</th>\n",
       "      <td>E08000001</td>\n",
       "      <td>Bolton</td>\n",
       "      <td>utla</td>\n",
       "      <td>2021-05-31</td>\n",
       "      <td>151</td>\n",
       "      <td>North West</td>\n",
       "      <td>31</td>\n",
       "      <td>5</td>\n",
       "      <td>2021</td>\n",
       "    </tr>\n",
       "    <tr>\n",
       "      <th>454</th>\n",
       "      <td>E08000016</td>\n",
       "      <td>Barnsley</td>\n",
       "      <td>utla</td>\n",
       "      <td>2021-05-31</td>\n",
       "      <td>4</td>\n",
       "      <td>Yorkshire and the Humber</td>\n",
       "      <td>31</td>\n",
       "      <td>5</td>\n",
       "      <td>2021</td>\n",
       "    </tr>\n",
       "    <tr>\n",
       "      <th>...</th>\n",
       "      <td>...</td>\n",
       "      <td>...</td>\n",
       "      <td>...</td>\n",
       "      <td>...</td>\n",
       "      <td>...</td>\n",
       "      <td>...</td>\n",
       "      <td>...</td>\n",
       "      <td>...</td>\n",
       "      <td>...</td>\n",
       "    </tr>\n",
       "    <tr>\n",
       "      <th>86040</th>\n",
       "      <td>E06000036</td>\n",
       "      <td>Bracknell Forest</td>\n",
       "      <td>utla</td>\n",
       "      <td>2021-05-01</td>\n",
       "      <td>1</td>\n",
       "      <td>South East</td>\n",
       "      <td>1</td>\n",
       "      <td>5</td>\n",
       "      <td>2021</td>\n",
       "    </tr>\n",
       "    <tr>\n",
       "      <th>86041</th>\n",
       "      <td>E06000037</td>\n",
       "      <td>West Berkshire</td>\n",
       "      <td>utla</td>\n",
       "      <td>2021-05-01</td>\n",
       "      <td>9</td>\n",
       "      <td>South East</td>\n",
       "      <td>1</td>\n",
       "      <td>5</td>\n",
       "      <td>2021</td>\n",
       "    </tr>\n",
       "    <tr>\n",
       "      <th>86042</th>\n",
       "      <td>E08000035</td>\n",
       "      <td>Leeds</td>\n",
       "      <td>utla</td>\n",
       "      <td>2021-05-01</td>\n",
       "      <td>54</td>\n",
       "      <td>Yorkshire and the Humber</td>\n",
       "      <td>1</td>\n",
       "      <td>5</td>\n",
       "      <td>2021</td>\n",
       "    </tr>\n",
       "    <tr>\n",
       "      <th>86043</th>\n",
       "      <td>E09000017</td>\n",
       "      <td>Hillingdon</td>\n",
       "      <td>utla</td>\n",
       "      <td>2021-05-01</td>\n",
       "      <td>2</td>\n",
       "      <td>London</td>\n",
       "      <td>1</td>\n",
       "      <td>5</td>\n",
       "      <td>2021</td>\n",
       "    </tr>\n",
       "    <tr>\n",
       "      <th>86044</th>\n",
       "      <td>E10000012</td>\n",
       "      <td>Essex</td>\n",
       "      <td>utla</td>\n",
       "      <td>2021-05-01</td>\n",
       "      <td>18</td>\n",
       "      <td>East of England</td>\n",
       "      <td>1</td>\n",
       "      <td>5</td>\n",
       "      <td>2021</td>\n",
       "    </tr>\n",
       "  </tbody>\n",
       "</table>\n",
       "<p>6634 rows × 9 columns</p>\n",
       "</div>"
      ],
      "text/plain": [
       "        areaCode                   areaName areaType       date  newCasesByPublishDate                    region  Day  Month  Year\n",
       "450    E06000003  Redcar and Cleveland       utla    2021-05-31  1                      North East                31   5      2021\n",
       "451    E06000014  York                       utla    2021-05-31  15                     Yorkshire and the Humber  31   5      2021\n",
       "452    E06000050  Cheshire West and Chester  utla    2021-05-31  30                     North West                31   5      2021\n",
       "453    E08000001  Bolton                     utla    2021-05-31  151                    North West                31   5      2021\n",
       "454    E08000016  Barnsley                   utla    2021-05-31  4                      Yorkshire and the Humber  31   5      2021\n",
       "...          ...       ...                    ...           ... ..                                           ...  ..  ..       ...\n",
       "86040  E06000036  Bracknell Forest           utla    2021-05-01  1                      South East                1    5      2021\n",
       "86041  E06000037  West Berkshire             utla    2021-05-01  9                      South East                1    5      2021\n",
       "86042  E08000035  Leeds                      utla    2021-05-01  54                     Yorkshire and the Humber  1    5      2021\n",
       "86043  E09000017  Hillingdon                 utla    2021-05-01  2                      London                    1    5      2021\n",
       "86044  E10000012  Essex                      utla    2021-05-01  18                     East of England           1    5      2021\n",
       "\n",
       "[6634 rows x 9 columns]"
      ]
     },
     "execution_count": 91,
     "metadata": {},
     "output_type": "execute_result"
    }
   ],
   "source": [
    "cc =  d[(d.Year == 2021)&(d.Month == 5)]\n",
    "cc"
   ]
  },
  {
   "cell_type": "code",
   "execution_count": 92,
   "metadata": {},
   "outputs": [
    {
     "data": {
      "text/plain": [
       "73021"
      ]
     },
     "execution_count": 92,
     "metadata": {},
     "output_type": "execute_result"
    }
   ],
   "source": [
    "cc['newCasesByPublishDate'].sum()"
   ]
  },
  {
   "cell_type": "code",
   "execution_count": 95,
   "metadata": {},
   "outputs": [
    {
     "data": {
      "text/plain": [
       "[<matplotlib.lines.Line2D at 0x27732a33f08>]"
      ]
     },
     "execution_count": 95,
     "metadata": {},
     "output_type": "execute_result"
    },
    {
     "data": {
      "image/png": "[encoded data removed]",
      "text/plain": [
       "<Figure size 432x288 with 1 Axes>"
      ]
     },
     "metadata": {
      "needs_background": "light"
     },
     "output_type": "display_data"
    }
   ],
   "source": [
    "f_x = [4,5,6,7,8,9,10,11,12]\n",
    "f_0 = [36719,33695, 10237, 100552, 31624,115794, 549090, 619228,850595]\n",
    "plt.plot(f_x,f_0)"
   ]
  },
  {
   "cell_type": "code",
   "execution_count": 96,
   "metadata": {},
   "outputs": [
    {
     "data": {
      "text/plain": [
       "[<matplotlib.lines.Line2D at 0x2773250f848>]"
      ]
     },
     "execution_count": 96,
     "metadata": {},
     "output_type": "execute_result"
    },
    {
     "data": {
      "image/png": "[encoded data removed]",
      "text/plain": [
       "<Figure size 432x288 with 1 Axes>"
      ]
     },
     "metadata": {
      "needs_background": "light"
     },
     "output_type": "display_data"
    }
   ],
   "source": [
    "f_y = [1,2,3,4,5,6]\n",
    "f_1 = [1315404,355959, 168701, 76160, 73021,311187]\n",
    "plt.plot(f_y,f_1)"
   ]
  },
  {
   "cell_type": "code",
   "execution_count": 27,
   "metadata": {},
   "outputs": [
    {
     "data": {
      "text/plain": [
       "{'whiskers': [<matplotlib.lines.Line2D at 0x2772ef4ef48>,\n",
       "  <matplotlib.lines.Line2D at 0x2772f249a88>],\n",
       " 'caps': [<matplotlib.lines.Line2D at 0x2772f249b88>,\n",
       "  <matplotlib.lines.Line2D at 0x2772f24ea08>],\n",
       " 'boxes': [<matplotlib.lines.Line2D at 0x2772cffac88>],\n",
       " 'medians': [<matplotlib.lines.Line2D at 0x2772f24eb08>],\n",
       " 'fliers': [<matplotlib.lines.Line2D at 0x2772f252948>],\n",
       " 'means': []}"
      ]
     },
     "execution_count": 27,
     "metadata": {},
     "output_type": "execute_result"
    },
    {
     "data": {
      "image/png": "[encoded data removed]",
      "text/plain": [
       "<Figure size 432x288 with 1 Axes>"
      ]
     },
     "metadata": {
      "needs_background": "light"
     },
     "output_type": "display_data"
    }
   ],
   "source": [
    "plt.boxplot(cc['newCasesByPublishDate'])"
   ]
  },
  {
   "cell_type": "code",
   "execution_count": 28,
   "metadata": {},
   "outputs": [
    {
     "data": {
      "text/plain": [
       "[<matplotlib.lines.Line2D at 0x2772f28a908>]"
      ]
     },
     "execution_count": 28,
     "metadata": {},
     "output_type": "execute_result"
    },
    {
     "data": {
      "image/png": "[encoded data removed]",
      "text/plain": [
       "<Figure size 936x504 with 1 Axes>"
      ]
     },
     "metadata": {
      "needs_background": "light"
     },
     "output_type": "display_data"
    }
   ],
   "source": [
    "fig = plt.figure(figsize=(13, 7))\n",
    "plt.plot(cc['Month'],cc['newCasesByPublishDate'])"
   ]
  },
  {
   "cell_type": "code",
   "execution_count": 30,
   "metadata": {},
   "outputs": [],
   "source": [
    "final_data = pd.read_csv('main.csv')"
   ]
  },
  {
   "cell_type": "code",
   "execution_count": 31,
   "metadata": {},
   "outputs": [
    {
     "data": {
      "text/html": [
       "<div>\n",
       "<style scoped>\n",
       "    .dataframe tbody tr th:only-of-type {\n",
       "        vertical-align: middle;\n",
       "    }\n",
       "\n",
       "    .dataframe tbody tr th {\n",
       "        vertical-align: top;\n",
       "    }\n",
       "\n",
       "    .dataframe thead th {\n",
       "        text-align: right;\n",
       "    }\n",
       "</style>\n",
       "<table border=\"1\" class=\"dataframe\">\n",
       "  <thead>\n",
       "    <tr style=\"text-align: right;\">\n",
       "      <th></th>\n",
       "      <th>Region</th>\n",
       "      <th>Covid Cases</th>\n",
       "      <th>Population Density</th>\n",
       "    </tr>\n",
       "  </thead>\n",
       "  <tbody>\n",
       "    <tr>\n",
       "      <th>0</th>\n",
       "      <td>North West</td>\n",
       "      <td>725512</td>\n",
       "      <td>522</td>\n",
       "    </tr>\n",
       "    <tr>\n",
       "      <th>1</th>\n",
       "      <td>Yorkshire and the Humber</td>\n",
       "      <td>389158</td>\n",
       "      <td>359</td>\n",
       "    </tr>\n",
       "    <tr>\n",
       "      <th>2</th>\n",
       "      <td>North East</td>\n",
       "      <td>212444</td>\n",
       "      <td>312</td>\n",
       "    </tr>\n",
       "    <tr>\n",
       "      <th>3</th>\n",
       "      <td>London</td>\n",
       "      <td>745274</td>\n",
       "      <td>5727</td>\n",
       "    </tr>\n",
       "    <tr>\n",
       "      <th>4</th>\n",
       "      <td>South East</td>\n",
       "      <td>563690</td>\n",
       "      <td>483</td>\n",
       "    </tr>\n",
       "    <tr>\n",
       "      <th>5</th>\n",
       "      <td>South West</td>\n",
       "      <td>240334</td>\n",
       "      <td>237</td>\n",
       "    </tr>\n",
       "    <tr>\n",
       "      <th>6</th>\n",
       "      <td>East of England</td>\n",
       "      <td>403384</td>\n",
       "      <td>328</td>\n",
       "    </tr>\n",
       "    <tr>\n",
       "      <th>7</th>\n",
       "      <td>West Midlands</td>\n",
       "      <td>450137</td>\n",
       "      <td>459</td>\n",
       "    </tr>\n",
       "    <tr>\n",
       "      <th>8</th>\n",
       "      <td>East Midlands</td>\n",
       "      <td>345790</td>\n",
       "      <td>311</td>\n",
       "    </tr>\n",
       "    <tr>\n",
       "      <th>9</th>\n",
       "      <td>Wales</td>\n",
       "      <td>192780</td>\n",
       "      <td>153</td>\n",
       "    </tr>\n",
       "    <tr>\n",
       "      <th>10</th>\n",
       "      <td>Scotland</td>\n",
       "      <td>261618</td>\n",
       "      <td>70</td>\n",
       "    </tr>\n",
       "    <tr>\n",
       "      <th>11</th>\n",
       "      <td>Northern Ireland</td>\n",
       "      <td>117845</td>\n",
       "      <td>137</td>\n",
       "    </tr>\n",
       "  </tbody>\n",
       "</table>\n",
       "</div>"
      ],
      "text/plain": [
       "                      Region  Covid Cases  Population Density\n",
       "0   North West                725512       522               \n",
       "1   Yorkshire and the Humber  389158       359               \n",
       "2   North East                212444       312               \n",
       "3   London                    745274       5727              \n",
       "4   South East                563690       483               \n",
       "5   South West                240334       237               \n",
       "6   East of England           403384       328               \n",
       "7   West Midlands             450137       459               \n",
       "8   East Midlands             345790       311               \n",
       "9   Wales                     192780       153               \n",
       "10  Scotland                  261618       70                \n",
       "11  Northern Ireland          117845       137               "
      ]
     },
     "execution_count": 31,
     "metadata": {},
     "output_type": "execute_result"
    }
   ],
   "source": [
    "final_data"
   ]
  },
  {
   "cell_type": "code",
   "execution_count": 32,
   "metadata": {},
   "outputs": [],
   "source": [
    "y = final_data.iloc[:, 1].values"
   ]
  },
  {
   "cell_type": "code",
   "execution_count": 33,
   "metadata": {},
   "outputs": [],
   "source": [
    "x = final_data.iloc[:, 2].values"
   ]
  },
  {
   "cell_type": "code",
   "execution_count": 34,
   "metadata": {},
   "outputs": [],
   "source": [
    "region_names = final_data.iloc[:, 0].values"
   ]
  },
  {
   "cell_type": "code",
   "execution_count": 35,
   "metadata": {},
   "outputs": [
    {
     "data": {
      "image/png": "[encoded data removed]",
      "text/plain": [
       "<Figure size 720x504 with 1 Axes>"
      ]
     },
     "metadata": {
      "needs_background": "light"
     },
     "output_type": "display_data"
    }
   ],
   "source": [
    "fig = plt.figure(figsize=(10, 7))\n",
    "mergings = linkage(np.reshape(y, (len(y), 1)), method = 'complete')\n",
    "dendrogram(mergings, labels = region_names, leaf_rotation = 90, leaf_font_size = 12)\n",
    "plt.show()"
   ]
  },
  {
   "cell_type": "code",
   "execution_count": 36,
   "metadata": {},
   "outputs": [
    {
     "data": {
      "text/plain": [
       "array([1, 2, 3, 1, 1, 3, 2, 2, 2, 3, 3, 3], dtype=int32)"
      ]
     },
     "execution_count": 36,
     "metadata": {},
     "output_type": "execute_result"
    }
   ],
   "source": [
    "la = fcluster(mergings, 200000, criterion = 'distance')\n",
    "la\n"
   ]
  },
  {
   "cell_type": "code",
   "execution_count": 37,
   "metadata": {},
   "outputs": [],
   "source": [
    "pairs = pd.DataFrame({'labels': la, 'regions': region_names})"
   ]
  },
  {
   "cell_type": "code",
   "execution_count": 38,
   "metadata": {},
   "outputs": [
    {
     "data": {
      "text/html": [
       "<div>\n",
       "<style scoped>\n",
       "    .dataframe tbody tr th:only-of-type {\n",
       "        vertical-align: middle;\n",
       "    }\n",
       "\n",
       "    .dataframe tbody tr th {\n",
       "        vertical-align: top;\n",
       "    }\n",
       "\n",
       "    .dataframe thead th {\n",
       "        text-align: right;\n",
       "    }\n",
       "</style>\n",
       "<table border=\"1\" class=\"dataframe\">\n",
       "  <thead>\n",
       "    <tr style=\"text-align: right;\">\n",
       "      <th></th>\n",
       "      <th>labels</th>\n",
       "      <th>regions</th>\n",
       "    </tr>\n",
       "  </thead>\n",
       "  <tbody>\n",
       "    <tr>\n",
       "      <th>0</th>\n",
       "      <td>1</td>\n",
       "      <td>North West</td>\n",
       "    </tr>\n",
       "    <tr>\n",
       "      <th>3</th>\n",
       "      <td>1</td>\n",
       "      <td>London</td>\n",
       "    </tr>\n",
       "    <tr>\n",
       "      <th>4</th>\n",
       "      <td>1</td>\n",
       "      <td>South East</td>\n",
       "    </tr>\n",
       "    <tr>\n",
       "      <th>1</th>\n",
       "      <td>2</td>\n",
       "      <td>Yorkshire and the Humber</td>\n",
       "    </tr>\n",
       "    <tr>\n",
       "      <th>6</th>\n",
       "      <td>2</td>\n",
       "      <td>East of England</td>\n",
       "    </tr>\n",
       "    <tr>\n",
       "      <th>7</th>\n",
       "      <td>2</td>\n",
       "      <td>West Midlands</td>\n",
       "    </tr>\n",
       "    <tr>\n",
       "      <th>8</th>\n",
       "      <td>2</td>\n",
       "      <td>East Midlands</td>\n",
       "    </tr>\n",
       "    <tr>\n",
       "      <th>2</th>\n",
       "      <td>3</td>\n",
       "      <td>North East</td>\n",
       "    </tr>\n",
       "    <tr>\n",
       "      <th>5</th>\n",
       "      <td>3</td>\n",
       "      <td>South West</td>\n",
       "    </tr>\n",
       "    <tr>\n",
       "      <th>9</th>\n",
       "      <td>3</td>\n",
       "      <td>Wales</td>\n",
       "    </tr>\n",
       "    <tr>\n",
       "      <th>10</th>\n",
       "      <td>3</td>\n",
       "      <td>Scotland</td>\n",
       "    </tr>\n",
       "    <tr>\n",
       "      <th>11</th>\n",
       "      <td>3</td>\n",
       "      <td>Northern Ireland</td>\n",
       "    </tr>\n",
       "  </tbody>\n",
       "</table>\n",
       "</div>"
      ],
      "text/plain": [
       "    labels                   regions\n",
       "0   1       North West              \n",
       "3   1       London                  \n",
       "4   1       South East              \n",
       "1   2       Yorkshire and the Humber\n",
       "6   2       East of England         \n",
       "7   2       West Midlands           \n",
       "8   2       East Midlands           \n",
       "2   3       North East              \n",
       "5   3       South West              \n",
       "9   3       Wales                   \n",
       "10  3       Scotland                \n",
       "11  3       Northern Ireland        "
      ]
     },
     "execution_count": 38,
     "metadata": {},
     "output_type": "execute_result"
    }
   ],
   "source": [
    "pairs.sort_values('labels')"
   ]
  },
  {
   "cell_type": "code",
   "execution_count": 39,
   "metadata": {},
   "outputs": [
    {
     "data": {
      "image/png": "[encoded data removed]",
      "text/plain": [
       "<Figure size 720x504 with 1 Axes>"
      ]
     },
     "metadata": {
      "needs_background": "light"
     },
     "output_type": "display_data"
    }
   ],
   "source": [
    "fig = plt.figure(figsize=(10, 7))\n",
    "mergings_b = linkage(np.reshape(x, (len(x), 1)), method = 'complete')\n",
    "dendrogram(mergings, labels = region_names, leaf_rotation = 90, leaf_font_size = 12)\n",
    "plt.show()"
   ]
  },
  {
   "cell_type": "code",
   "execution_count": 40,
   "metadata": {},
   "outputs": [
    {
     "data": {
      "text/plain": [
       "array([1, 1, 1, 1, 1, 1, 1, 1, 1, 1, 1, 1], dtype=int32)"
      ]
     },
     "execution_count": 40,
     "metadata": {},
     "output_type": "execute_result"
    }
   ],
   "source": [
    "la = fcluster(mergings_b, 200000, criterion = 'distance')\n",
    "la"
   ]
  },
  {
   "cell_type": "markdown",
   "metadata": {},
   "source": [
    "## Correlation between Covid cases and poulation density"
   ]
  },
  {
   "cell_type": "code",
   "execution_count": 41,
   "metadata": {},
   "outputs": [],
   "source": [
    "from sklearn.linear_model import LinearRegression\n",
    "from sklearn.model_selection import train_test_split, cross_val_score\n",
    "from sklearn import metrics"
   ]
  },
  {
   "cell_type": "code",
   "execution_count": 42,
   "metadata": {},
   "outputs": [
    {
     "data": {
      "text/plain": [
       "(12, 3)"
      ]
     },
     "execution_count": 42,
     "metadata": {},
     "output_type": "execute_result"
    }
   ],
   "source": [
    "final_data.shape"
   ]
  },
  {
   "cell_type": "code",
   "execution_count": 43,
   "metadata": {},
   "outputs": [
    {
     "data": {
      "text/plain": [
       "[<matplotlib.lines.Line2D at 0x27730405f88>]"
      ]
     },
     "execution_count": 43,
     "metadata": {},
     "output_type": "execute_result"
    },
    {
     "data": {
      "image/png": "[encoded data removed]",
      "text/plain": [
       "<Figure size 1800x504 with 1 Axes>"
      ]
     },
     "metadata": {
      "needs_background": "light"
     },
     "output_type": "display_data"
    }
   ],
   "source": [
    "fig = plt.figure(figsize=(25, 7))\n",
    "plt.plot(final_data['Region'],final_data['Covid Cases'])\n"
   ]
  },
  {
   "cell_type": "code",
   "execution_count": 55,
   "metadata": {},
   "outputs": [
    {
     "data": {
      "text/html": [
       "<div>\n",
       "<style scoped>\n",
       "    .dataframe tbody tr th:only-of-type {\n",
       "        vertical-align: middle;\n",
       "    }\n",
       "\n",
       "    .dataframe tbody tr th {\n",
       "        vertical-align: top;\n",
       "    }\n",
       "\n",
       "    .dataframe thead th {\n",
       "        text-align: right;\n",
       "    }\n",
       "</style>\n",
       "<table border=\"1\" class=\"dataframe\">\n",
       "  <thead>\n",
       "    <tr style=\"text-align: right;\">\n",
       "      <th></th>\n",
       "      <th>Region</th>\n",
       "      <th>Covid Cases</th>\n",
       "      <th>Population Density</th>\n",
       "    </tr>\n",
       "  </thead>\n",
       "  <tbody>\n",
       "    <tr>\n",
       "      <th>0</th>\n",
       "      <td>North West</td>\n",
       "      <td>725512</td>\n",
       "      <td>522</td>\n",
       "    </tr>\n",
       "    <tr>\n",
       "      <th>1</th>\n",
       "      <td>Yorkshire and the Humber</td>\n",
       "      <td>389158</td>\n",
       "      <td>359</td>\n",
       "    </tr>\n",
       "    <tr>\n",
       "      <th>2</th>\n",
       "      <td>North East</td>\n",
       "      <td>212444</td>\n",
       "      <td>312</td>\n",
       "    </tr>\n",
       "    <tr>\n",
       "      <th>3</th>\n",
       "      <td>London</td>\n",
       "      <td>745274</td>\n",
       "      <td>5727</td>\n",
       "    </tr>\n",
       "    <tr>\n",
       "      <th>4</th>\n",
       "      <td>South East</td>\n",
       "      <td>563690</td>\n",
       "      <td>483</td>\n",
       "    </tr>\n",
       "    <tr>\n",
       "      <th>5</th>\n",
       "      <td>South West</td>\n",
       "      <td>240334</td>\n",
       "      <td>237</td>\n",
       "    </tr>\n",
       "    <tr>\n",
       "      <th>6</th>\n",
       "      <td>East of England</td>\n",
       "      <td>403384</td>\n",
       "      <td>328</td>\n",
       "    </tr>\n",
       "    <tr>\n",
       "      <th>7</th>\n",
       "      <td>West Midlands</td>\n",
       "      <td>450137</td>\n",
       "      <td>459</td>\n",
       "    </tr>\n",
       "    <tr>\n",
       "      <th>8</th>\n",
       "      <td>East Midlands</td>\n",
       "      <td>345790</td>\n",
       "      <td>311</td>\n",
       "    </tr>\n",
       "    <tr>\n",
       "      <th>9</th>\n",
       "      <td>Wales</td>\n",
       "      <td>192780</td>\n",
       "      <td>153</td>\n",
       "    </tr>\n",
       "    <tr>\n",
       "      <th>10</th>\n",
       "      <td>Scotland</td>\n",
       "      <td>261618</td>\n",
       "      <td>70</td>\n",
       "    </tr>\n",
       "    <tr>\n",
       "      <th>11</th>\n",
       "      <td>Northern Ireland</td>\n",
       "      <td>117845</td>\n",
       "      <td>137</td>\n",
       "    </tr>\n",
       "  </tbody>\n",
       "</table>\n",
       "</div>"
      ],
      "text/plain": [
       "                      Region  Covid Cases  Population Density\n",
       "0   North West                725512       522               \n",
       "1   Yorkshire and the Humber  389158       359               \n",
       "2   North East                212444       312               \n",
       "3   London                    745274       5727              \n",
       "4   South East                563690       483               \n",
       "5   South West                240334       237               \n",
       "6   East of England           403384       328               \n",
       "7   West Midlands             450137       459               \n",
       "8   East Midlands             345790       311               \n",
       "9   Wales                     192780       153               \n",
       "10  Scotland                  261618       70                \n",
       "11  Northern Ireland          117845       137               "
      ]
     },
     "execution_count": 55,
     "metadata": {},
     "output_type": "execute_result"
    }
   ],
   "source": [
    "final_data"
   ]
  },
  {
   "cell_type": "code",
   "execution_count": 44,
   "metadata": {},
   "outputs": [
    {
     "data": {
      "image/png": "[encoded data removed]",
      "text/plain": [
       "<Figure size 1800x504 with 1 Axes>"
      ]
     },
     "metadata": {
      "needs_background": "light"
     },
     "output_type": "display_data"
    }
   ],
   "source": [
    "fig = plt.figure(figsize=(25, 7))\n",
    "plt.plot(final_data['Region'],final_data['Population Density'])\n",
    "plt.show()"
   ]
  },
  {
   "cell_type": "code",
   "execution_count": 45,
   "metadata": {},
   "outputs": [
    {
     "data": {
      "text/html": [
       "<div>\n",
       "<style scoped>\n",
       "    .dataframe tbody tr th:only-of-type {\n",
       "        vertical-align: middle;\n",
       "    }\n",
       "\n",
       "    .dataframe tbody tr th {\n",
       "        vertical-align: top;\n",
       "    }\n",
       "\n",
       "    .dataframe thead th {\n",
       "        text-align: right;\n",
       "    }\n",
       "</style>\n",
       "<table border=\"1\" class=\"dataframe\">\n",
       "  <thead>\n",
       "    <tr style=\"text-align: right;\">\n",
       "      <th></th>\n",
       "      <th>Region</th>\n",
       "      <th>Covid Cases</th>\n",
       "      <th>Population Density</th>\n",
       "    </tr>\n",
       "  </thead>\n",
       "  <tbody>\n",
       "    <tr>\n",
       "      <th>0</th>\n",
       "      <td>North West</td>\n",
       "      <td>725512</td>\n",
       "      <td>522</td>\n",
       "    </tr>\n",
       "    <tr>\n",
       "      <th>1</th>\n",
       "      <td>Yorkshire and the Humber</td>\n",
       "      <td>389158</td>\n",
       "      <td>359</td>\n",
       "    </tr>\n",
       "    <tr>\n",
       "      <th>2</th>\n",
       "      <td>North East</td>\n",
       "      <td>212444</td>\n",
       "      <td>312</td>\n",
       "    </tr>\n",
       "    <tr>\n",
       "      <th>3</th>\n",
       "      <td>London</td>\n",
       "      <td>745274</td>\n",
       "      <td>5727</td>\n",
       "    </tr>\n",
       "    <tr>\n",
       "      <th>4</th>\n",
       "      <td>South East</td>\n",
       "      <td>563690</td>\n",
       "      <td>483</td>\n",
       "    </tr>\n",
       "  </tbody>\n",
       "</table>\n",
       "</div>"
      ],
      "text/plain": [
       "                     Region  Covid Cases  Population Density\n",
       "0  North West                725512       522               \n",
       "1  Yorkshire and the Humber  389158       359               \n",
       "2  North East                212444       312               \n",
       "3  London                    745274       5727              \n",
       "4  South East                563690       483               "
      ]
     },
     "execution_count": 45,
     "metadata": {},
     "output_type": "execute_result"
    }
   ],
   "source": [
    "final_data.head()"
   ]
  },
  {
   "cell_type": "code",
   "execution_count": 46,
   "metadata": {},
   "outputs": [],
   "source": [
    "xx = final_data.iloc[:,2].values\n",
    "yy = final_data.iloc[:,1].values"
   ]
  },
  {
   "cell_type": "code",
   "execution_count": 47,
   "metadata": {},
   "outputs": [
    {
     "name": "stdout",
     "output_type": "stream",
     "text": [
      "Pearson's correlation is 0.614973827094469 with a p-value of 0.03332078247991341\n"
     ]
    }
   ],
   "source": [
    "import scipy.stats as stats\n",
    "\n",
    "corrPearson, pValPearson = stats.pearsonr(xx,yy)\n",
    "print (\"Pearson's correlation is\", corrPearson, \"with a p-value of\",pValPearson)"
   ]
  },
  {
   "cell_type": "code",
   "execution_count": 48,
   "metadata": {},
   "outputs": [
    {
     "name": "stdout",
     "output_type": "stream",
     "text": [
      "Spearman's correlation is 0.8951048951048951 with a p-value of 8.36658642909172e-05\n"
     ]
    }
   ],
   "source": [
    "corrSpearman, pValSpearman = stats.spearmanr(xx,yy)\n",
    "print (\"Spearman's correlation is\", corrSpearman, \"with a p-value of\",pValSpearman)"
   ]
  },
  {
   "cell_type": "markdown",
   "metadata": {},
   "source": [
    "There's a small difference between the two computations. Spearman's is higher. This is because Spearman's rank-based approach is better at capturing non-linear relationships. The p-values are the probabilities that correlation of the population is not correlated (i.e. with a null-hypothesis that the population are not correlated). This is very low, indicating that the effect and sample size is high enough to be confident statistically significant."
   ]
  },
  {
   "cell_type": "code",
   "execution_count": 49,
   "metadata": {},
   "outputs": [
    {
     "name": "stdout",
     "output_type": "stream",
     "text": [
      "Slope:  79.87184127647596\n",
      "Intercept:  326774.3323388852\n",
      "p_value:  0.0333207824799133\n",
      "std_err:  32.38656841403953\n"
     ]
    }
   ],
   "source": [
    "import scipy.stats as stats\n",
    "slope, intercept, r_value, p_value, std_err = stats.linregress(xx, yy)\n",
    "\n",
    "print (\"Slope: \", slope)\n",
    "print (\"Intercept: \", intercept)\n",
    "print (\"p_value: \", p_value)\n",
    "print (\"std_err: \", std_err)"
   ]
  },
  {
   "cell_type": "code",
   "execution_count": 50,
   "metadata": {},
   "outputs": [
    {
     "data": {
      "text/plain": [
       "[<matplotlib.lines.Line2D at 0x2772c9f69c8>]"
      ]
     },
     "execution_count": 50,
     "metadata": {},
     "output_type": "execute_result"
    },
    {
     "data": {
      "image/png": "[encoded data removed]",
      "text/plain": [
       "<Figure size 432x288 with 1 Axes>"
      ]
     },
     "metadata": {
      "needs_background": "light"
     },
     "output_type": "display_data"
    }
   ],
   "source": [
    "import numpy as np\n",
    "\n",
    "#Method 1: Calculate 2 points directly from the parameters\n",
    "x1=xx.min() #min value of the independent variable\n",
    "x2=xx.max() #max value of the independent variable\n",
    "y1=x1*slope + intercept #calculate the dependent variable value from x1\n",
    "y2=x2*slope + intercept #calculate the dependent variable value from x2\n",
    "\n",
    "#Method 2: Calculate every y (dependent variable value) from every x\n",
    "#(independent variable value, directly from the parameters\n",
    "modelledDependentMethod2  = xx*slope + intercept\n",
    "\n",
    "#(this was the suggested method in the practical, but is unnecessary,\n",
    "#because it's linear, so you only need 2 points)\n",
    "modelledDependentMethod3  = np.polyval([slope, intercept], xx)\n",
    "\n",
    "#Plot a scatterplot as before\n",
    "plt.suptitle('medIncome vs. ViolentCrimesPerPop')\n",
    "plt.xlabel('PctKids2Par')\n",
    "plt.ylabel('ViolentCrimesPerPop')\n",
    "plt.scatter(xx,yy , c = \"#D06B36\", s = 30, alpha = 0.2, linewidth='0')\n",
    "#overlay the modelled line (all three will be on top of each other)\n",
    "#Method 1:\n",
    "plt.plot([x1,x2],[y1,y2])\n",
    "#Method 2:\n",
    "plt.plot(xx, modelledDependentMethod2)\n",
    "#Method 3:\n",
    "plt.plot(xx, modelledDependentMethod3)"
   ]
  },
  {
   "cell_type": "code",
   "execution_count": 51,
   "metadata": {},
   "outputs": [
    {
     "data": {
      "text/plain": [
       "[<matplotlib.lines.Line2D at 0x2772f303608>]"
      ]
     },
     "execution_count": 51,
     "metadata": {},
     "output_type": "execute_result"
    },
    {
     "data": {
      "image/png": "[encoded data removed]",
      "text/plain": [
       "<Figure size 432x288 with 1 Axes>"
      ]
     },
     "metadata": {
      "needs_background": "light"
     },
     "output_type": "display_data"
    }
   ],
   "source": [
    "#Fit a second-order curve\n",
    "pCoeff = np.polyfit(xx, yy, 2)\n",
    "#Sort them, so the curve looks like a curve when drawn\n",
    "xs = np.sort(xx)\n",
    "#Calculate value for each of these using the polynomial\n",
    "ys = np.polyval(pCoeff, xs)\n",
    "\n",
    "#plot the data values\n",
    "plt.scatter(xx,yy , c = \"#D06B36\", s = 30, alpha = 0.2, linewidth='0')\n",
    "#plot the linear \"curve\" - make is dashed\n",
    "plt.plot([x1,x2],[y1,y2], \"k--\")\n",
    "#plot the second order polynomal curve\n",
    "plt.plot(xs, ys, linewidth = 3, fillstyle=\"none\")"
   ]
  },
  {
   "cell_type": "code",
   "execution_count": 52,
   "metadata": {},
   "outputs": [
    {
     "name": "stdout",
     "output_type": "stream",
     "text": [
      "195361.52318351567\n"
     ]
    },
    {
     "data": {
      "text/plain": [
       "{'whiskers': [<matplotlib.lines.Line2D at 0x2772f680e88>,\n",
       "  <matplotlib.lines.Line2D at 0x2772f680f88>],\n",
       " 'caps': [<matplotlib.lines.Line2D at 0x2772f684e48>,\n",
       "  <matplotlib.lines.Line2D at 0x2772f684f48>],\n",
       " 'boxes': [<matplotlib.lines.Line2D at 0x2772f67ba08>],\n",
       " 'medians': [<matplotlib.lines.Line2D at 0x2772f689dc8>],\n",
       " 'fliers': [<matplotlib.lines.Line2D at 0x2772f689ec8>],\n",
       " 'means': []}"
      ]
     },
     "execution_count": 52,
     "metadata": {},
     "output_type": "execute_result"
    },
    {
     "data": {
      "image/png": "[encoded data removed]",
      "text/plain": [
       "<Figure size 432x288 with 1 Axes>"
      ]
     },
     "metadata": {
      "needs_background": "light"
     },
     "output_type": "display_data"
    }
   ],
   "source": [
    "print(yy.std())\n",
    "plt.boxplot(yy)"
   ]
  },
  {
   "cell_type": "code",
   "execution_count": 53,
   "metadata": {},
   "outputs": [
    {
     "name": "stdout",
     "output_type": "stream",
     "text": [
      "                            OLS Regression Results                            \n",
      "==============================================================================\n",
      "Dep. Variable:                      y   R-squared:                       0.378\n",
      "Model:                            OLS   Adj. R-squared:                  0.316\n",
      "Method:                 Least Squares   F-statistic:                     6.082\n",
      "Date:                Wed, 07 Jul 2021   Prob (F-statistic):             0.0333\n",
      "Time:                        00:33:04   Log-Likelihood:                -160.37\n",
      "No. Observations:                  12   AIC:                             324.7\n",
      "Df Residuals:                      10   BIC:                             325.7\n",
      "Df Model:                           1                                         \n",
      "Covariance Type:            nonrobust                                         \n",
      "==============================================================================\n",
      "                 coef    std err          t      P>|t|      [0.025      0.975]\n",
      "------------------------------------------------------------------------------\n",
      "const       3.268e+05   5.46e+04      5.990      0.000    2.05e+05    4.48e+05\n",
      "x1            79.8718     32.387      2.466      0.033       7.710     152.034\n",
      "==============================================================================\n",
      "Omnibus:                        3.103   Durbin-Watson:                   1.316\n",
      "Prob(Omnibus):                  0.212   Jarque-Bera (JB):                1.363\n",
      "Skew:                           0.823   Prob(JB):                        0.506\n",
      "Kurtosis:                       3.134   Cond. No.                     1.89e+03\n",
      "==============================================================================\n",
      "\n",
      "Warnings:\n",
      "[1] Standard Errors assume that the covariance matrix of the errors is correctly specified.\n",
      "[2] The condition number is large, 1.89e+03. This might indicate that there are\n",
      "strong multicollinearity or other numerical problems.\n"
     ]
    }
   ],
   "source": [
    "import statsmodels.api as sm\n",
    "\n",
    "# our dependent variable is still \"ViolentCrimesPerPop\" which is still column2\n",
    "dependent=yy;\n",
    "# this time get two independent variables, i.e., regressors \n",
    "independents = xx\n",
    "# We have to manually add the intercepts\n",
    "independents_withconst = sm.add_constant(independents)\n",
    "\n",
    "# we use the OLS function from statsmodels\n",
    "model = sm.OLS(dependent,independents_withconst)\n",
    "results = model.fit()\n",
    "\n",
    "print (results.summary())"
   ]
  },
  {
   "cell_type": "code",
   "execution_count": 54,
   "metadata": {},
   "outputs": [
    {
     "name": "stdout",
     "output_type": "stream",
     "text": [
      "R-squared: 0.3781928080112178\n",
      "MSE model: 173209846638.57147\n",
      "MSE residuals: 28478365024.842854\n",
      "MSE total: 41635772444.27273\n"
     ]
    }
   ],
   "source": [
    "print(\"R-squared:\",results.rsquared)\n",
    "print(\"MSE model:\",results.mse_model)\n",
    "print(\"MSE residuals:\",results.mse_resid)\n",
    "print(\"MSE total:\",results.mse_total)\n",
    "# It was observed that poulation density contributed tp 32% in covid spread."
   ]
  },
  {
   "cell_type": "code",
   "execution_count": 181,
   "metadata": {},
   "outputs": [],
   "source": [
    "X_train, X_test, Y_train,Y_test = train_test_split(xx, yy, test_size = 0.2,random_state = 0)"
   ]
  },
  {
   "cell_type": "markdown",
   "metadata": {},
   "source": [
    "**Comment**\n",
    "\n",
    "The dataset used for this analysis contains information about covid cases in different areas of UK between 17th April 2020 and 30th June 2021.In 2020, the covid cases were \n"
   ]
  },
  {
   "cell_type": "markdown",
   "metadata": {},
   "source": [
    "# Death data analysis"
   ]
  },
  {
   "cell_type": "code",
   "execution_count": 33,
   "metadata": {},
   "outputs": [],
   "source": [
    "death_data = pd.read_csv('deaths.csv')"
   ]
  },
  {
   "cell_type": "code",
   "execution_count": 5,
   "metadata": {},
   "outputs": [
    {
     "data": {
      "text/html": [
       "<div>\n",
       "<style scoped>\n",
       "    .dataframe tbody tr th:only-of-type {\n",
       "        vertical-align: middle;\n",
       "    }\n",
       "\n",
       "    .dataframe tbody tr th {\n",
       "        vertical-align: top;\n",
       "    }\n",
       "\n",
       "    .dataframe thead th {\n",
       "        text-align: right;\n",
       "    }\n",
       "</style>\n",
       "<table border=\"1\" class=\"dataframe\">\n",
       "  <thead>\n",
       "    <tr style=\"text-align: right;\">\n",
       "      <th></th>\n",
       "      <th>areaCode</th>\n",
       "      <th>areaName</th>\n",
       "      <th>areaType</th>\n",
       "      <th>date</th>\n",
       "      <th>newOnsDeathsByRegistrationDate</th>\n",
       "    </tr>\n",
       "  </thead>\n",
       "  <tbody>\n",
       "    <tr>\n",
       "      <th>0</th>\n",
       "      <td>E06000003</td>\n",
       "      <td>Redcar and Cleveland</td>\n",
       "      <td>utla</td>\n",
       "      <td>2021-06-18</td>\n",
       "      <td>0</td>\n",
       "    </tr>\n",
       "    <tr>\n",
       "      <th>1</th>\n",
       "      <td>E06000014</td>\n",
       "      <td>York</td>\n",
       "      <td>utla</td>\n",
       "      <td>2021-06-18</td>\n",
       "      <td>0</td>\n",
       "    </tr>\n",
       "    <tr>\n",
       "      <th>2</th>\n",
       "      <td>E06000050</td>\n",
       "      <td>Cheshire West and Chester</td>\n",
       "      <td>utla</td>\n",
       "      <td>2021-06-18</td>\n",
       "      <td>0</td>\n",
       "    </tr>\n",
       "    <tr>\n",
       "      <th>3</th>\n",
       "      <td>E08000001</td>\n",
       "      <td>Bolton</td>\n",
       "      <td>utla</td>\n",
       "      <td>2021-06-18</td>\n",
       "      <td>3</td>\n",
       "    </tr>\n",
       "    <tr>\n",
       "      <th>4</th>\n",
       "      <td>E08000016</td>\n",
       "      <td>Barnsley</td>\n",
       "      <td>utla</td>\n",
       "      <td>2021-06-18</td>\n",
       "      <td>0</td>\n",
       "    </tr>\n",
       "  </tbody>\n",
       "</table>\n",
       "</div>"
      ],
      "text/plain": [
       "    areaCode                   areaName areaType        date  \\\n",
       "0  E06000003       Redcar and Cleveland     utla  2021-06-18   \n",
       "1  E06000014                       York     utla  2021-06-18   \n",
       "2  E06000050  Cheshire West and Chester     utla  2021-06-18   \n",
       "3  E08000001                     Bolton     utla  2021-06-18   \n",
       "4  E08000016                   Barnsley     utla  2021-06-18   \n",
       "\n",
       "   newOnsDeathsByRegistrationDate  \n",
       "0                               0  \n",
       "1                               0  \n",
       "2                               0  \n",
       "3                               3  \n",
       "4                               0  "
      ]
     },
     "execution_count": 5,
     "metadata": {},
     "output_type": "execute_result"
    }
   ],
   "source": [
    "death_data.head()"
   ]
  },
  {
   "cell_type": "code",
   "execution_count": 6,
   "metadata": {},
   "outputs": [
    {
     "data": {
      "text/plain": [
       "(11142, 5)"
      ]
     },
     "execution_count": 6,
     "metadata": {},
     "output_type": "execute_result"
    }
   ],
   "source": [
    "death_data.shape"
   ]
  },
  {
   "cell_type": "code",
   "execution_count": 12,
   "metadata": {},
   "outputs": [],
   "source": [
    "yorkshire_and_the_humber = ['York', 'Kirklees', 'Leeds', 'North Lincolnshire','Kingston upon Hull, City of', 'East Riding of Yorkshire',\n",
    "                           'Bradford', 'Barnsley', 'Calderdale', 'Doncaster', 'North East Lincolnshire', 'Wakefield', 'Sheffield', \n",
    "                           'Rotherham', 'North Yorkshire']\n",
    "north_east = [ 'Gateshead', 'Newcastle upon Tyne', 'Middlesbrough','Darlington', 'County Durham', 'South Tyneside',\n",
    "             'Sunderland', 'Stockton-on-Tees', 'Northumberland', 'Redcar and Cleveland', 'North Tyneside', 'Hartlepool']\n",
    "north_west = [ 'Halton',  'Kirklees', 'Manchester', 'Liverpool','Tameside','Trafford', 'Wigan', 'Oldham', 'Wirral', 'Rochdale',\n",
    "              'Lancashire', 'Knowsley', 'Bolton', 'Blackpool', 'Blackburn with Darwen', 'Bury', 'Cumbria', 'Cheshire West and Chester',\n",
    "             'Cheshire East', 'Sefton', 'Salford', 'Stockport', 'St. Helens', 'Warrington']\n",
    "london = ['Kensington and Chelsea','Islington', 'Hounslow', 'Hillingdon', 'Havering', 'Harrow', 'Haringey', \n",
    "         'Hammersmith and Fulham', 'Greenwich', 'Kingston upon Thames', 'Newham', 'Merton','Lewisham','Lambeth',\n",
    "         'Enfield', 'Ealing', 'Bromley', 'Brent', 'Bexley', 'Barnet', 'Barking and Dagenham', 'Croydon', 'Camden', 'Waltham Forest',\n",
    "         'Wandsworth', 'Southwark', 'Sutton', 'Tower Hamlets', 'Westminster', 'Redbridge', 'Richmond upon Thames',\n",
    "         'Hackney and City of London']\n",
    "south_east =['Isle of Wight', 'Hampshire', 'Kent', 'Milton Keynes', 'Medway', 'East Sussex', 'Brighton and Hove', 'Bracknell Forest',\n",
    "            'Buckinghamshire', 'Southampton', 'Slough', 'Surrey', 'West Berkshire', 'Windsor and Maidenhead',\n",
    "            'Oxfordshire', 'West Sussex', 'Wokingham', 'Portsmouth', 'Reading']\n",
    "south_west = ['Gloucestershire', 'Bristol, City of', 'Bournemouth, Christchurch and Poole', 'Bath and North East Somerset',\n",
    "             'Dorset', 'Devon', 'Cornwall and Isles of Scilly', 'South Gloucestershire', 'Somerset', 'North Somerset',\n",
    "             'Swindon', 'Torbay', 'Wiltshire', 'Plymouth']\n",
    "east = ['Hertfordshire', 'Essex', 'Norfolk', 'Luton', 'Bedford', 'Cambridgeshire', 'Central Bedfordshire','Southend-on-Sea', 'Suffolk',\n",
    "       'Thurrock', 'Peterborough']\n",
    "west_midlands = ['Herefordshire, County of', 'Birmingham', 'Dudley', 'Coventry', 'Walsall', 'Solihull', 'Shropshire', 'Telford and Wrekin',\n",
    "                'Warwickshire', 'Sandwell', 'Stoke-on-Trent', 'Staffordshire', 'Wolverhampton', 'Worcestershire']\n",
    "east_midlands = ['Leicestershire', 'Leicester', 'Derbyshire', 'Derby', 'Lincolnshire', 'Nottingham', 'Northamptonshire',\n",
    "                'Nottinghamshire', 'Rutland']\n",
    "wales = ['Merthyr Tydfil', 'Monmouthshire', 'Rhondda Cynon Taf', 'Swansea', 'Newport', 'Denbighshire', 'Powys',\n",
    "        'Neath Port Talbot', 'Isle of Anglesey', 'Gwynedd', 'Wrexham', 'Flintshire', 'Cardiff', 'Vale of Glamorgan',\n",
    "        'Conwy', 'Bridgend', 'Torfaen', 'Blaenau Gwent','Caerphilly','Carmarthenshire', 'Pembrokeshire', 'Ceredigion' ]\n",
    "scotland = ['Angus', 'Aberdeen City', 'South Lanarkshire', 'Stirling', 'Midlothian', 'Dundee City', 'Renfrewshire',\n",
    "           'Falkirk', 'Glasgow City', 'Fife', 'City of Edinburgh', 'Aberdeenshire', 'Moray', 'Perth and Kinross',\n",
    "           'West Lothian', 'Highland', 'Inverclyde', 'North Lanarkshire','Dumfries and Galloway', 'East Lothian',\n",
    "           'East Dunbartonshire', 'East Ayrshire', 'West Dunbartonshire', 'Argyll and Bute', 'East Renfrewshire',\n",
    "           'South Ayrshire', 'North Ayrshire', 'Scottish Borders', 'Shetland Islands', 'Clackmannanshire',\n",
    "           'Orkney Islands', 'Na h-Eileanan Siar']\n",
    "northern_ireland = ['Antrim and Newtownabbey', 'Ards and North Down', 'Belfast', 'Causeway Coast and Glens', 'Mid and East Antrim',\n",
    "                   'Lisburn and Castlereagh', 'Newry, Mourne and Down', 'Armagh City, Banbridge and Craigavon', 'Mid Ulster',\n",
    "                   'Derry City and Strabane', 'Fermanagh and Omagh']"
   ]
  },
  {
   "cell_type": "code",
   "execution_count": 23,
   "metadata": {},
   "outputs": [
    {
     "data": {
      "text/plain": [
       "214"
      ]
     },
     "execution_count": 23,
     "metadata": {},
     "output_type": "execute_result"
    }
   ],
   "source": [
    "case_data.areaName.nunique()"
   ]
  },
  {
   "cell_type": "code",
   "execution_count": 24,
   "metadata": {},
   "outputs": [
    {
     "data": {
      "text/plain": [
       "171"
      ]
     },
     "execution_count": 24,
     "metadata": {},
     "output_type": "execute_result"
    }
   ],
   "source": [
    "death_data.areaName.nunique()"
   ]
  },
  {
   "cell_type": "code",
   "execution_count": 8,
   "metadata": {},
   "outputs": [
    {
     "data": {
      "text/plain": [
       "areaCode                 0\n",
       "areaName                 0\n",
       "areaType                 0\n",
       "date                     0\n",
       "newCasesByPublishDate    0\n",
       "dtype: int64"
      ]
     },
     "execution_count": 8,
     "metadata": {},
     "output_type": "execute_result"
    }
   ],
   "source": [
    "case_data.isnull().sum()"
   ]
  },
  {
   "cell_type": "code",
   "execution_count": 9,
   "metadata": {},
   "outputs": [
    {
     "data": {
      "text/plain": [
       "areaCode                          0\n",
       "areaName                          0\n",
       "areaType                          0\n",
       "date                              0\n",
       "newOnsDeathsByRegistrationDate    0\n",
       "dtype: int64"
      ]
     },
     "execution_count": 9,
     "metadata": {},
     "output_type": "execute_result"
    }
   ],
   "source": [
    "death_data.isnull().sum()"
   ]
  },
  {
   "cell_type": "code",
   "execution_count": 10,
   "metadata": {},
   "outputs": [
    {
     "data": {
      "text/plain": [
       "0        False\n",
       "1        False\n",
       "2        False\n",
       "3        False\n",
       "4        False\n",
       "         ...  \n",
       "88314    False\n",
       "88315    False\n",
       "88316    False\n",
       "88317    False\n",
       "88318    False\n",
       "Length: 88319, dtype: bool"
      ]
     },
     "execution_count": 10,
     "metadata": {},
     "output_type": "execute_result"
    }
   ],
   "source": [
    "case_data.duplicated()"
   ]
  },
  {
   "cell_type": "code",
   "execution_count": 12,
   "metadata": {},
   "outputs": [
    {
     "data": {
      "text/html": [
       "<div>\n",
       "<style scoped>\n",
       "    .dataframe tbody tr th:only-of-type {\n",
       "        vertical-align: middle;\n",
       "    }\n",
       "\n",
       "    .dataframe tbody tr th {\n",
       "        vertical-align: top;\n",
       "    }\n",
       "\n",
       "    .dataframe thead th {\n",
       "        text-align: right;\n",
       "    }\n",
       "</style>\n",
       "<table border=\"1\" class=\"dataframe\">\n",
       "  <thead>\n",
       "    <tr style=\"text-align: right;\">\n",
       "      <th></th>\n",
       "      <th>areaCode</th>\n",
       "      <th>areaName</th>\n",
       "      <th>areaType</th>\n",
       "      <th>date</th>\n",
       "      <th>newOnsDeathsByRegistrationDate</th>\n",
       "    </tr>\n",
       "  </thead>\n",
       "  <tbody>\n",
       "  </tbody>\n",
       "</table>\n",
       "</div>"
      ],
      "text/plain": [
       "Empty DataFrame\n",
       "Columns: [areaCode, areaName, areaType, date, newOnsDeathsByRegistrationDate]\n",
       "Index: []"
      ]
     },
     "execution_count": 12,
     "metadata": {},
     "output_type": "execute_result"
    }
   ],
   "source": [
    "death_data[death_data.duplicated()]"
   ]
  },
  {
   "cell_type": "code",
   "execution_count": null,
   "metadata": {},
   "outputs": [],
   "source": []
  }
 ],
 "metadata": {
  "kernelspec": {
   "display_name": "Python 3",
   "language": "python",
   "name": "python3"
  },
  "language_info": {
   "codemirror_mode": {
    "name": "ipython",
    "version": 3
   },
   "file_extension": ".py",
   "mimetype": "text/x-python",
   "name": "python",
   "nbconvert_exporter": "python",
   "pygments_lexer": "ipython3",
   "version": "3.7.7"
  }
 },
 "nbformat": 4,
 "nbformat_minor": 4
}
